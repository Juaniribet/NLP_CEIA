{
  "cells": [
    {
      "cell_type": "markdown",
      "metadata": {
        "id": "pfa39F4lsLf3"
      },
      "source": [
        "<img src=\"https://github.com/hernancontigiani/ceia_memorias_especializacion/raw/master/Figures/logoFIUBA.jpg\" width=\"500\" align=\"center\">\n",
        "\n",
        "\n",
        "# Procesamiento de lenguaje natural\n",
        "## LSTM Bot QA"
      ]
    },
    {
      "cell_type": "markdown",
      "metadata": {
        "id": "ZqO0PRcFsPTe"
      },
      "source": [
        "### Datos\n",
        "El objecto es utilizar datos disponibles del challenge ConvAI2 (Conversational Intelligence Challenge 2) de conversaciones en inglés. Se construirá un BOT para responder a preguntas del usuario (QA).\\\n",
        "[LINK](http://convai.io/data/)"
      ]
    },
    {
      "cell_type": "code",
      "execution_count": 1,
      "metadata": {
        "id": "bDFC0I3j9oFD"
      },
      "outputs": [],
      "source": [
        "!pip install --upgrade --no-cache-dir gdown --quiet"
      ]
    },
    {
      "cell_type": "code",
      "execution_count": 2,
      "metadata": {
        "id": "cq3YXak9sGHd"
      },
      "outputs": [],
      "source": [
        "import re\n",
        "\n",
        "import numpy as np\n",
        "import pandas as pd\n",
        "\n",
        "import tensorflow as tf\n",
        "from keras.preprocessing.text import one_hot\n",
        "from tensorflow.keras.utils import pad_sequences\n",
        "from keras.models import Sequential\n",
        "from keras.layers import Activation, Dropout, Dense\n",
        "from keras.layers import Flatten, LSTM, SimpleRNN\n",
        "from keras.models import Model\n",
        "from tensorflow.keras.layers import Embedding\n",
        "from sklearn.model_selection import train_test_split\n",
        "from keras.preprocessing.text import Tokenizer\n",
        "from keras.layers import Input"
      ]
    },
    {
      "cell_type": "code",
      "execution_count": 3,
      "metadata": {
        "colab": {
          "base_uri": "https://localhost:8080/"
        },
        "id": "RHNkUaPp6aYq",
        "outputId": "f925d4ec-2886-4f28-a9a0-090cfe389dff"
      },
      "outputs": [
        {
          "output_type": "stream",
          "name": "stderr",
          "text": [
            "Downloading...\n",
            "From: https://drive.google.com/uc?id=1awUxYwImF84MIT5-jCaYAPe2QwSgS1hN&export=download\n",
            "To: /content/data_volunteers.json\n",
            "100%|██████████| 2.58M/2.58M [00:00<00:00, 211MB/s]\n"
          ]
        }
      ],
      "source": [
        "# Descargar la carpeta de dataset\n",
        "import os\n",
        "import gdown\n",
        "if os.access('data_volunteers.json', os.F_OK) is False:\n",
        "    url = 'https://drive.google.com/uc?id=1awUxYwImF84MIT5-jCaYAPe2QwSgS1hN&export=download'\n",
        "    output = 'data_volunteers.json'\n",
        "    gdown.download(url, output, quiet=False)\n",
        "else:\n",
        "    print(\"El dataset ya se encuentra descargado\")"
      ]
    },
    {
      "cell_type": "code",
      "execution_count": 4,
      "metadata": {
        "id": "WZy1-wgG-Rp7"
      },
      "outputs": [],
      "source": [
        "# dataset_file\n",
        "import json\n",
        "\n",
        "text_file = \"data_volunteers.json\"\n",
        "with open(text_file) as f:\n",
        "    data = json.load(f) # la variable data será un diccionario\n",
        "\n"
      ]
    },
    {
      "cell_type": "code",
      "execution_count": 5,
      "metadata": {
        "colab": {
          "base_uri": "https://localhost:8080/"
        },
        "id": "ue5qd54S-eew",
        "outputId": "ac8b4338-6c8f-456b-c89f-9f47469a8a4a"
      },
      "outputs": [
        {
          "output_type": "execute_result",
          "data": {
            "text/plain": [
              "dict_keys(['dialog', 'start_time', 'end_time', 'bot_profile', 'user_profile', 'eval_score', 'profile_match', 'participant1_id', 'participant2_id'])"
            ]
          },
          "metadata": {},
          "execution_count": 5
        }
      ],
      "source": [
        "# Observar los campos disponibles en cada linea del dataset\n",
        "data[0].keys()"
      ]
    },
    {
      "cell_type": "code",
      "execution_count": 6,
      "metadata": {
        "colab": {
          "base_uri": "https://localhost:8080/"
        },
        "id": "jHBRAXPl-3dz",
        "outputId": "b8c0d3cc-54b5-4232-9b6e-fa5f9f5ded72"
      },
      "outputs": [
        {
          "output_type": "stream",
          "name": "stdout",
          "text": [
            "Cantidad de rows utilizadas: 6033\n"
          ]
        }
      ],
      "source": [
        "chat_in = []\n",
        "chat_out = []\n",
        "\n",
        "input_sentences = []\n",
        "output_sentences = []\n",
        "output_sentences_inputs = []\n",
        "max_len = 30\n",
        "\n",
        "def clean_text(txt):\n",
        "    txt = txt.lower()\n",
        "    txt.replace(\"\\'d\", \" had\")\n",
        "    txt.replace(\"\\'s\", \" is\")\n",
        "    txt.replace(\"\\'m\", \" am\")\n",
        "    txt.replace(\"don't\", \"do not\")\n",
        "    txt = re.sub(r'\\W+', ' ', txt)\n",
        "\n",
        "    return txt\n",
        "\n",
        "for line in data:\n",
        "    for i in range(len(line['dialog'])-1):\n",
        "        # vamos separando el texto en \"preguntas\" (chat_in)\n",
        "        # y \"respuestas\" (chat_out)\n",
        "        chat_in = clean_text(line['dialog'][i]['text'])\n",
        "        chat_out = clean_text(line['dialog'][i+1]['text'])\n",
        "\n",
        "        if len(chat_in) >= max_len or len(chat_out) >= max_len:\n",
        "            continue\n",
        "\n",
        "        input_sentence, output = chat_in, chat_out\n",
        "\n",
        "        # output sentence (decoder_output) tiene <eos>\n",
        "        output_sentence = output + ' <eos>'\n",
        "        # output sentence input (decoder_input) tiene <sos>\n",
        "        output_sentence_input = '<sos> ' + output\n",
        "\n",
        "        input_sentences.append(input_sentence)\n",
        "        output_sentences.append(output_sentence)\n",
        "        output_sentences_inputs.append(output_sentence_input)\n",
        "\n",
        "print(\"Cantidad de rows utilizadas:\", len(input_sentences))"
      ]
    },
    {
      "cell_type": "code",
      "execution_count": 7,
      "metadata": {
        "colab": {
          "base_uri": "https://localhost:8080/"
        },
        "id": "07L1qj8pC_l6",
        "outputId": "2b5b71cb-0534-47e5-df65-e3596fabfe1a"
      },
      "outputs": [
        {
          "output_type": "execute_result",
          "data": {
            "text/plain": [
              "('hi how are you ', 'not bad and you  <eos>', '<sos> not bad and you ')"
            ]
          },
          "metadata": {},
          "execution_count": 7
        }
      ],
      "source": [
        "input_sentences[1], output_sentences[1], output_sentences_inputs[1]"
      ]
    },
    {
      "cell_type": "code",
      "execution_count": 8,
      "metadata": {
        "colab": {
          "base_uri": "https://localhost:8080/"
        },
        "id": "bNAG3exgZm8D",
        "outputId": "935817aa-9b01-4509-c89c-add322344dca"
      },
      "outputs": [
        {
          "output_type": "stream",
          "name": "stdout",
          "text": [
            "input: \"hello \"- output: \"hi how are you  <eos>\"- output_inputs: \"<sos> hi how are you \"\n",
            "input: \"hi how are you \"- output: \"not bad and you  <eos>\"- output_inputs: \"<sos> not bad and you \"\n",
            "input: \"hi \"- output: \"hello  <eos>\"- output_inputs: \"<sos> hello \"\n",
            "input: \"hi \"- output: \"hello  <eos>\"- output_inputs: \"<sos> hello \"\n",
            "input: \"hi \"- output: \"hello how are you today  <eos>\"- output_inputs: \"<sos> hello how are you today \"\n",
            "input: \"where are you working \"- output: \"bro  <eos>\"- output_inputs: \"<sos> bro \"\n",
            "input: \"bro \"- output: \"where are you from  <eos>\"- output_inputs: \"<sos> where are you from \"\n",
            "input: \"where are you from \"- output: \"i am from russia and you  <eos>\"- output_inputs: \"<sos> i am from russia and you \"\n",
            "input: \"i am from russia and you \"- output: \"i am from the united states  <eos>\"- output_inputs: \"<sos> i am from the united states \"\n",
            "input: \"i hate them most of the time \"- output: \"you are racist  <eos>\"- output_inputs: \"<sos> you are racist \"\n"
          ]
        }
      ],
      "source": [
        "for i in range(10):\n",
        " print(f'input: \"{input_sentences[i]}\"- output: \"{output_sentences[i]}\"- output_inputs: \"{output_sentences_inputs[i]}\"')"
      ]
    },
    {
      "cell_type": "markdown",
      "metadata": {
        "id": "8P-ynUNP5xp6"
      },
      "source": [
        "### 2 - Preprocesamiento\n",
        "Realizar el preprocesamiento necesario para obtener:\n",
        "- word2idx_inputs, max_input_len\n",
        "- word2idx_outputs, max_out_len, num_words_output\n",
        "- encoder_input_sequences, decoder_output_sequences, decoder_targets"
      ]
    },
    {
      "cell_type": "code",
      "execution_count": 9,
      "metadata": {
        "id": "CygpK5tlwhPV"
      },
      "outputs": [],
      "source": [
        "# Definir el tamaño máximo del vocabulario\n",
        "MAX_VOCAB_SIZE = 50000"
      ]
    },
    {
      "cell_type": "code",
      "execution_count": 10,
      "metadata": {
        "colab": {
          "base_uri": "https://localhost:8080/"
        },
        "id": "dTtWCG6jwh6a",
        "outputId": "f37518a5-6c4c-4b74-d1db-5e273bff7bc9"
      },
      "outputs": [
        {
          "output_type": "stream",
          "name": "stdout",
          "text": [
            "Palabras en el vocabulario: 1799\n",
            "Sentencia de entrada más larga: 9\n"
          ]
        }
      ],
      "source": [
        "# Tokenizar las palabras con el Tokenizer de Keras\n",
        "# Definir una máxima cantidad de palabras a utilizar:\n",
        "# - num_words --> the maximum number of words to keep, based on word frequency.\n",
        "# - Only the most common num_words-1 words will be kept.\n",
        "from keras.preprocessing.text import Tokenizer\n",
        "\n",
        "input_tokenizer = Tokenizer(num_words=MAX_VOCAB_SIZE)\n",
        "input_tokenizer.fit_on_texts(input_sentences)\n",
        "input_integer_seq = input_tokenizer.texts_to_sequences(input_sentences)\n",
        "\n",
        "word2idx_inputs = input_tokenizer.word_index\n",
        "print(\"Palabras en el vocabulario:\", len(word2idx_inputs))\n",
        "\n",
        "max_input_len = max(len(sen) for sen in input_integer_seq)\n",
        "print(\"Sentencia de entrada más larga:\", max_input_len)"
      ]
    },
    {
      "cell_type": "code",
      "execution_count": 11,
      "metadata": {
        "colab": {
          "base_uri": "https://localhost:8080/"
        },
        "id": "KhqlgTzejeUf",
        "outputId": "9c00ba5e-e514-4f6c-ea97-f73b8bf6bd80"
      },
      "outputs": [
        {
          "output_type": "stream",
          "name": "stdout",
          "text": [
            "Palabras en el vocabulario: 1806\n",
            "Sentencia de salida más larga: 10\n"
          ]
        }
      ],
      "source": [
        "# Tokenizamos los output\n",
        "output_tokenizer = Tokenizer(num_words=MAX_VOCAB_SIZE, filters='\\t\\n')\n",
        "output_tokenizer.fit_on_texts([\"<sos>\", \"<eos>\"] + output_sentences)\n",
        "output_integer_seq = output_tokenizer.texts_to_sequences(output_sentences)\n",
        "output_input_integer_seq = output_tokenizer.texts_to_sequences(output_sentences_inputs)\n",
        "\n",
        "word2idx_outputs = output_tokenizer.word_index\n",
        "print(\"Palabras en el vocabulario:\", len(word2idx_outputs))\n",
        "\n",
        "num_words_output = min(len(word2idx_outputs) + 1, MAX_VOCAB_SIZE)\n",
        "# Se suma 1 para incluir el token de palabra desconocida\n",
        "\n",
        "max_out_len = max(len(sen) for sen in output_integer_seq)\n",
        "print(\"Sentencia de salida más larga:\", max_out_len)"
      ]
    },
    {
      "cell_type": "code",
      "source": [
        "max_input_len = 20"
      ],
      "metadata": {
        "id": "AbuSa69yD7_O"
      },
      "execution_count": 12,
      "outputs": []
    },
    {
      "cell_type": "code",
      "execution_count": 13,
      "metadata": {
        "colab": {
          "base_uri": "https://localhost:8080/"
        },
        "id": "lV3btvQpwr-Z",
        "outputId": "f95249dc-99d2-40ed-9b0e-6814a27bdac9"
      },
      "outputs": [
        {
          "output_type": "stream",
          "name": "stdout",
          "text": [
            "Cantidad de rows del dataset: 6033\n",
            "encoder_input_sequences shape: (6033, 20)\n",
            "decoder_input_sequences shape: (6033, 10)\n"
          ]
        }
      ],
      "source": [
        "print(\"Cantidad de rows del dataset:\", len(input_integer_seq))\n",
        "\n",
        "encoder_input_sequences = pad_sequences(input_integer_seq, maxlen=max_input_len)\n",
        "print(\"encoder_input_sequences shape:\", encoder_input_sequences.shape)\n",
        "\n",
        "decoder_input_sequences = pad_sequences(output_input_integer_seq, maxlen=max_out_len, padding='post')\n",
        "print(\"decoder_input_sequences shape:\", decoder_input_sequences.shape)"
      ]
    },
    {
      "cell_type": "code",
      "execution_count": 14,
      "metadata": {
        "colab": {
          "base_uri": "https://localhost:8080/"
        },
        "id": "379xgPHRwurL",
        "outputId": "2d706686-ac63-4a5c-c399-2bb1234e53b8"
      },
      "outputs": [
        {
          "output_type": "execute_result",
          "data": {
            "text/plain": [
              "(6033, 10, 1807)"
            ]
          },
          "metadata": {},
          "execution_count": 14
        }
      ],
      "source": [
        "from keras.utils import to_categorical\n",
        "decoder_output_sequences = pad_sequences(output_integer_seq, maxlen=max_out_len, padding='post')\n",
        "decoder_targets = to_categorical(decoder_output_sequences, num_classes=num_words_output)\n",
        "decoder_targets.shape"
      ]
    },
    {
      "cell_type": "markdown",
      "metadata": {
        "id": "_CJIsLBbj6rg"
      },
      "source": [
        "### 3 - Preparar los embeddings\n",
        "Utilizar los embeddings de Glove o FastText para transformar los tokens de entrada en vectores"
      ]
    },
    {
      "cell_type": "code",
      "execution_count": 15,
      "metadata": {
        "colab": {
          "base_uri": "https://localhost:8080/"
        },
        "id": "JUcq2veswxbk",
        "outputId": "21fd6343-5955-436c-9634-4a3731395176"
      },
      "outputs": [
        {
          "output_type": "stream",
          "name": "stderr",
          "text": [
            "Downloading...\n",
            "From: https://drive.google.com/u/0/uc?id=1Qi1r-u5lsEsNqRSxLrpNOqQ3B_ufltCa&export=download&confirm=t\n",
            "To: /content/fasttext.pkl\n",
            "100%|██████████| 2.88G/2.88G [00:26<00:00, 109MB/s]\n"
          ]
        }
      ],
      "source": [
        "# Descargar los embeddings desde un google drive (es la forma más rápida)\n",
        "# NOTA: No hay garantía de que estos links perduren, en caso de que no estén\n",
        "# disponibles descargar de la página oficial como se explica en el siguiente bloque de código\n",
        "import os\n",
        "import gdown\n",
        "if os.access('fasttext.pkl', os.F_OK) is False:\n",
        "    url = 'https://drive.google.com/u/0/uc?id=1Qi1r-u5lsEsNqRSxLrpNOqQ3B_ufltCa&export=download&confirm=t'\n",
        "    output = 'fasttext.pkl'\n",
        "    gdown.download(url, output, quiet=False)\n",
        "else:\n",
        "    print(\"Los embeddings fasttext.pkl ya están descargados\")"
      ]
    },
    {
      "cell_type": "code",
      "execution_count": 16,
      "metadata": {
        "id": "D2bmchlSOvdp"
      },
      "outputs": [],
      "source": [
        "# # Descargar los embeddings desde un google drive (es la forma más rápida)\n",
        "# # NOTA: No hay garantía de que estos links perduren, en caso de que no estén\n",
        "# # disponibles descargar de la página oficial como se explica en el siguiente bloque de código\n",
        "# import os\n",
        "# import gdown\n",
        "# if os.access('gloveembedding.pkl', os.F_OK) is False:\n",
        "#     url = 'https://drive.google.com/uc?id=1KY6avD5I1eI2dxQzMkR3WExwKwRq2g94&export=download'\n",
        "#     output = 'gloveembedding.pkl'\n",
        "#     gdown.download(url, output, quiet=False)\n",
        "# else:\n",
        "#     print(\"Los embeddings gloveembedding.pkl ya están descargados\")"
      ]
    },
    {
      "cell_type": "code",
      "execution_count": 17,
      "metadata": {
        "id": "v8AdL7C7xMFL"
      },
      "outputs": [],
      "source": [
        "import logging\n",
        "import os\n",
        "from pathlib import Path\n",
        "from io import StringIO\n",
        "import pickle\n",
        "\n",
        "class WordsEmbeddings(object):\n",
        "    logger = logging.getLogger(__name__)\n",
        "\n",
        "    def __init__(self):\n",
        "        # load the embeddings\n",
        "        words_embedding_pkl = Path(self.PKL_PATH)\n",
        "        if not words_embedding_pkl.is_file():\n",
        "            words_embedding_txt = Path(self.WORD_TO_VEC_MODEL_TXT_PATH)\n",
        "            assert words_embedding_txt.is_file(), 'Words embedding not available'\n",
        "            embeddings = self.convert_model_to_pickle()\n",
        "        else:\n",
        "            embeddings = self.load_model_from_pickle()\n",
        "        self.embeddings = embeddings\n",
        "        # build the vocabulary hashmap\n",
        "        index = np.arange(self.embeddings.shape[0])\n",
        "        # Dicctionarios para traducir de embedding a IDX de la palabra\n",
        "        self.word2idx = dict(zip(self.embeddings['word'], index))\n",
        "        self.idx2word = dict(zip(index, self.embeddings['word']))\n",
        "\n",
        "    def get_words_embeddings(self, words):\n",
        "        words_idxs = self.words2idxs(words)\n",
        "        return self.embeddings[words_idxs]['embedding']\n",
        "\n",
        "    def words2idxs(self, words):\n",
        "        return np.array([self.word2idx.get(word, -1) for word in words])\n",
        "\n",
        "    def idxs2words(self, idxs):\n",
        "        return np.array([self.idx2word.get(idx, '-1') for idx in idxs])\n",
        "\n",
        "    def load_model_from_pickle(self):\n",
        "        self.logger.debug(\n",
        "            'loading words embeddings from pickle {}'.format(\n",
        "                self.PKL_PATH\n",
        "            )\n",
        "        )\n",
        "        max_bytes = 2**28 - 1 # 256MB\n",
        "        bytes_in = bytearray(0)\n",
        "        input_size = os.path.getsize(self.PKL_PATH)\n",
        "        with open(self.PKL_PATH, 'rb') as f_in:\n",
        "            for _ in range(0, input_size, max_bytes):\n",
        "                bytes_in += f_in.read(max_bytes)\n",
        "        embeddings = pickle.loads(bytes_in)\n",
        "        self.logger.debug('words embeddings loaded')\n",
        "        return embeddings\n",
        "\n",
        "    def convert_model_to_pickle(self):\n",
        "        # create a numpy strctured array:\n",
        "        # word     embedding\n",
        "        # U50      np.float32[]\n",
        "        # word_1   a, b, c\n",
        "        # word_2   d, e, f\n",
        "        # ...\n",
        "        # word_n   g, h, i\n",
        "        self.logger.debug(\n",
        "            'converting and loading words embeddings from text file {}'.format(\n",
        "                self.WORD_TO_VEC_MODEL_TXT_PATH\n",
        "            )\n",
        "        )\n",
        "        structure = [('word', np.dtype('U' + str(self.WORD_MAX_SIZE))),\n",
        "                     ('embedding', np.float32, (self.N_FEATURES,))]\n",
        "        structure = np.dtype(structure)\n",
        "        # load numpy array from disk using a generator\n",
        "        with open(self.WORD_TO_VEC_MODEL_TXT_PATH, encoding=\"utf8\") as words_embeddings_txt:\n",
        "            embeddings_gen = (\n",
        "                (line.split()[0], line.split()[1:]) for line in words_embeddings_txt\n",
        "                if len(line.split()[1:]) == self.N_FEATURES\n",
        "            )\n",
        "            embeddings = np.fromiter(embeddings_gen, structure)\n",
        "        # add a null embedding\n",
        "        null_embedding = np.array(\n",
        "            [('null_embedding', np.zeros((self.N_FEATURES,), dtype=np.float32))],\n",
        "            dtype=structure\n",
        "        )\n",
        "        embeddings = np.concatenate([embeddings, null_embedding])\n",
        "        # dump numpy array to disk using pickle\n",
        "        max_bytes = 2**28 - 1 # # 256MB\n",
        "        bytes_out = pickle.dumps(embeddings, protocol=pickle.HIGHEST_PROTOCOL)\n",
        "        with open(self.PKL_PATH, 'wb') as f_out:\n",
        "            for idx in range(0, len(bytes_out), max_bytes):\n",
        "                f_out.write(bytes_out[idx:idx+max_bytes])\n",
        "        self.logger.debug('words embeddings loaded')\n",
        "        return embeddings\n",
        "\n",
        "\n",
        "class GloveEmbeddings(WordsEmbeddings):\n",
        "    WORD_TO_VEC_MODEL_TXT_PATH = 'glove.twitter.27B.50d.txt'\n",
        "    PKL_PATH = 'gloveembedding.pkl'\n",
        "    N_FEATURES = 50\n",
        "    WORD_MAX_SIZE = 60\n",
        "\n",
        "class FasttextEmbeddings(WordsEmbeddings):\n",
        "    WORD_TO_VEC_MODEL_TXT_PATH = 'cc.en.300.vec'\n",
        "    PKL_PATH = 'fasttext.pkl'\n",
        "    N_FEATURES = 300\n",
        "    WORD_MAX_SIZE = 60"
      ]
    },
    {
      "cell_type": "markdown",
      "metadata": {
        "id": "efFsDI_IWQA4"
      },
      "source": [
        "Utilice los embedings de Fasttext ya que me dieron mejores resultados en las inferencias"
      ]
    },
    {
      "cell_type": "code",
      "execution_count": 18,
      "metadata": {
        "id": "z2IVCLZzxP9e"
      },
      "outputs": [],
      "source": [
        "model_embeddings = FasttextEmbeddings()"
      ]
    },
    {
      "cell_type": "code",
      "execution_count": 19,
      "metadata": {
        "id": "ueZqc6uwPI9W"
      },
      "outputs": [],
      "source": [
        "# model_embeddings = GloveEmbeddings()"
      ]
    },
    {
      "cell_type": "code",
      "execution_count": 20,
      "metadata": {
        "colab": {
          "base_uri": "https://localhost:8080/"
        },
        "id": "yEyMvdTfxTx-",
        "outputId": "a173932e-97d1-4f2e-a86d-01fa5f1961a5"
      },
      "outputs": [
        {
          "output_type": "stream",
          "name": "stdout",
          "text": [
            "preparing embedding matrix...\n",
            "number of null word embeddings: 1\n"
          ]
        }
      ],
      "source": [
        "# Crear la Embedding matrix de las secuencias\n",
        "# en inglés\n",
        "\n",
        "print('preparing embedding matrix...')\n",
        "embed_dim = model_embeddings.N_FEATURES\n",
        "words_not_found = []\n",
        "\n",
        "# word_index provieen del tokenizer\n",
        "\n",
        "nb_words = min(MAX_VOCAB_SIZE, len(word2idx_inputs)) # vocab_size\n",
        "embedding_matrix = np.zeros((nb_words, embed_dim))\n",
        "for word, i in word2idx_inputs.items():\n",
        "    if i >= nb_words:\n",
        "        continue\n",
        "    embedding_vector = model_embeddings.get_words_embeddings(word)[0]\n",
        "    if (embedding_vector is not None) and len(embedding_vector) > 0:\n",
        "\n",
        "        embedding_matrix[i] = embedding_vector\n",
        "    else:\n",
        "        # words not found in embedding index will be all-zeros.\n",
        "        words_not_found.append(word)\n",
        "\n",
        "print('number of null word embeddings:', np.sum(np.sum(embedding_matrix**2, axis=1) == 0))"
      ]
    },
    {
      "cell_type": "code",
      "execution_count": 21,
      "metadata": {
        "colab": {
          "base_uri": "https://localhost:8080/"
        },
        "id": "AFfi4Y0txvBj",
        "outputId": "539628a2-409d-4407-e1ea-2de6e8d803e5"
      },
      "outputs": [
        {
          "output_type": "execute_result",
          "data": {
            "text/plain": [
              "(1799, 300)"
            ]
          },
          "metadata": {},
          "execution_count": 21
        }
      ],
      "source": [
        "# Dimensión de los embeddings de la secuencia en inglés\n",
        "embedding_matrix.shape"
      ]
    },
    {
      "cell_type": "markdown",
      "metadata": {
        "id": "3vKbhjtIwPgM"
      },
      "source": [
        "### 4 - Entrenar el modelo\n",
        "Entrenar un modelo basado en el esquema encoder-decoder utilizando los datos generados en los puntos anteriores. Utilce como referencias los ejemplos vistos en clase."
      ]
    },
    {
      "cell_type": "code",
      "execution_count": 22,
      "metadata": {
        "colab": {
          "base_uri": "https://localhost:8080/"
        },
        "id": "WLwKwAcCxydD",
        "outputId": "e2c3b9ce-2a0f-46d8-f337-8149af1f10fc"
      },
      "outputs": [
        {
          "output_type": "execute_result",
          "data": {
            "text/plain": [
              "20"
            ]
          },
          "metadata": {},
          "execution_count": 22
        }
      ],
      "source": [
        "max_input_len"
      ]
    },
    {
      "cell_type": "code",
      "execution_count": 23,
      "metadata": {
        "colab": {
          "base_uri": "https://localhost:8080/"
        },
        "id": "NTos5fLgx005",
        "outputId": "4bc27520-27bd-4aef-c584-65047bb620c7"
      },
      "outputs": [
        {
          "output_type": "stream",
          "name": "stdout",
          "text": [
            "Model: \"model\"\n",
            "__________________________________________________________________________________________________\n",
            " Layer (type)                Output Shape                 Param #   Connected to                  \n",
            "==================================================================================================\n",
            " input_1 (InputLayer)        [(None, 20)]                 0         []                            \n",
            "                                                                                                  \n",
            " input_2 (InputLayer)        [(None, 10)]                 0         []                            \n",
            "                                                                                                  \n",
            " embedding (Embedding)       (None, 20, 300)              539700    ['input_1[0][0]']             \n",
            "                                                                                                  \n",
            " embedding_1 (Embedding)     (None, 10, 300)              539700    ['input_2[0][0]']             \n",
            "                                                                                                  \n",
            " lstm (LSTM)                 [(None, 1024),               5427200   ['embedding[0][0]']           \n",
            "                              (None, 1024),                                                       \n",
            "                              (None, 1024)]                                                       \n",
            "                                                                                                  \n",
            " lstm_1 (LSTM)               [(None, 10, 1024),           5427200   ['embedding_1[0][0]',         \n",
            "                              (None, 1024),                          'lstm[0][1]',                \n",
            "                              (None, 1024)]                          'lstm[0][2]']                \n",
            "                                                                                                  \n",
            " dense (Dense)               (None, 10, 1807)             1852175   ['lstm_1[0][0]']              \n",
            "                                                                                                  \n",
            "==================================================================================================\n",
            "Total params: 13785975 (52.59 MB)\n",
            "Trainable params: 12706575 (48.47 MB)\n",
            "Non-trainable params: 1079400 (4.12 MB)\n",
            "__________________________________________________________________________________________________\n"
          ]
        }
      ],
      "source": [
        "from keras.models import Model\n",
        "from keras.layers import Input, LSTM, Dense\n",
        "\n",
        "n_units = 1024\n",
        "\n",
        "# define training encoder\n",
        "encoder_inputs = Input(shape=(max_input_len))\n",
        "\n",
        "#encoder_embedding_layer = Embedding(num_words, EMBEDDING_SIZE, weights=[embedding_matrix], input_length=max_input_len)\n",
        "\n",
        "encoder_embedding_layer = Embedding(\n",
        "          input_dim=nb_words,  # definido en el Tokenizador\n",
        "          output_dim=embed_dim,  # dimensión de los embeddings utilizados\n",
        "          input_length=max_input_len, # tamaño máximo de la secuencia de entrada\n",
        "          weights=[embedding_matrix],  # matrix de embeddings\n",
        "          trainable=False)      # marcar como layer no entrenable\n",
        "\n",
        "encoder_inputs_x = encoder_embedding_layer(encoder_inputs)\n",
        "\n",
        "encoder = LSTM(n_units, return_state=True)\n",
        "encoder_outputs, state_h, state_c = encoder(encoder_inputs_x)\n",
        "encoder_states = [state_h, state_c]\n",
        "\n",
        "# define training decoder\n",
        "decoder_inputs = Input(shape=(max_out_len))\n",
        "\n",
        "# decoder_embedding_layer = Embedding(input_dim=num_words_output, output_dim=n_units, input_length=max_out_len)\n",
        "\n",
        "decoder_embedding_layer = Embedding(\n",
        "          input_dim=nb_words,  # definido en el Tokenizador\n",
        "          output_dim=embed_dim,  # dimensión de los embeddings utilizados\n",
        "          input_length=max_out_len, # tamaño máximo de la secuencia de entrada\n",
        "          weights=[embedding_matrix],  # matrix de embeddings\n",
        "          trainable=False)      # marcar como layer no entrenable\n",
        "\n",
        "\n",
        "decoder_inputs_x = decoder_embedding_layer(decoder_inputs)\n",
        "\n",
        "decoder_lstm = LSTM(n_units, return_sequences=True, return_state=True)\n",
        "decoder_outputs, _, _ = decoder_lstm(decoder_inputs_x, initial_state=encoder_states)\n",
        "\n",
        "# Dense\n",
        "decoder_dense = Dense(num_words_output, activation='softmax')\n",
        "decoder_outputs = decoder_dense(decoder_outputs)\n",
        "model = Model([encoder_inputs, decoder_inputs], decoder_outputs)\n",
        "\n",
        "model.compile(loss='categorical_crossentropy', optimizer=\"Adam\", metrics=['accuracy'])\n",
        "model.summary()"
      ]
    },
    {
      "cell_type": "code",
      "execution_count": 24,
      "metadata": {
        "colab": {
          "base_uri": "https://localhost:8080/",
          "height": 533
        },
        "id": "t3DjcmAoyAQs",
        "outputId": "92038905-8270-4643-8fd7-bbc8004c1e8a"
      },
      "outputs": [
        {
          "output_type": "execute_result",
          "data": {
            "image/png": "[encoded data removed]",
            "text/plain": [
              "<IPython.core.display.Image object>"
            ]
          },
          "metadata": {},
          "execution_count": 24
        }
      ],
      "source": [
        "# Modelo completo (encoder+decoder) para poder entrenar\n",
        "from keras.utils import plot_model\n",
        "plot_model(model, to_file='model_plot.png', show_shapes=True, show_layer_names=True)"
      ]
    },
    {
      "cell_type": "code",
      "execution_count": 25,
      "metadata": {
        "colab": {
          "base_uri": "https://localhost:8080/",
          "height": 312
        },
        "id": "1ZRZBuEsyDcU",
        "outputId": "f712319d-50a5-4d78-c4c8-a411c8126972"
      },
      "outputs": [
        {
          "output_type": "execute_result",
          "data": {
            "image/png": "[encoded data removed]",
            "text/plain": [
              "<IPython.core.display.Image object>"
            ]
          },
          "metadata": {},
          "execution_count": 25
        }
      ],
      "source": [
        "# Modelo solo encoder\n",
        "\n",
        "# define inference encoder\n",
        "encoder_model = Model(encoder_inputs, encoder_states)\n",
        "\n",
        "plot_model(encoder_model, to_file='encoder_plot.png', show_shapes=True, show_layer_names=True)"
      ]
    },
    {
      "cell_type": "code",
      "execution_count": 26,
      "metadata": {
        "colab": {
          "base_uri": "https://localhost:8080/",
          "height": 422
        },
        "id": "qiadifxWyosY",
        "outputId": "adcfb643-1fa8-4246-c501-a1f301413b2b"
      },
      "outputs": [
        {
          "output_type": "execute_result",
          "data": {
            "image/png": "[encoded data removed]",
            "text/plain": [
              "<IPython.core.display.Image object>"
            ]
          },
          "metadata": {},
          "execution_count": 26
        }
      ],
      "source": [
        "# Modelo solo decoder (para realizar inferencia)\n",
        "\n",
        "# define inference decoder\n",
        "decoder_state_input_h = Input(shape=(n_units,))\n",
        "decoder_state_input_c = Input(shape=(n_units,))\n",
        "decoder_states_inputs = [decoder_state_input_h, decoder_state_input_c]\n",
        "\n",
        "# En cada predicción habrá una sola palabra de entrada al decoder,\n",
        "# que es la realimentación de la palabra anterior\n",
        "# por lo que hay que modificar el input shape de la layer de Embedding\n",
        "decoder_inputs_single = Input(shape=(1,))\n",
        "decoder_inputs_single_x = decoder_embedding_layer(decoder_inputs_single)\n",
        "\n",
        "decoder_outputs, state_h, state_c = decoder_lstm(decoder_inputs_single_x, initial_state=decoder_states_inputs)\n",
        "decoder_states = [state_h, state_c]\n",
        "decoder_outputs = decoder_dense(decoder_outputs)\n",
        "decoder_model = Model([decoder_inputs_single] + decoder_states_inputs, [decoder_outputs] + decoder_states)\n",
        "\n",
        "plot_model(decoder_model, to_file='decoder_plot.png', show_shapes=True, show_layer_names=True)"
      ]
    },
    {
      "cell_type": "code",
      "execution_count": 27,
      "metadata": {
        "colab": {
          "base_uri": "https://localhost:8080/"
        },
        "id": "lws_jUO-ys7W",
        "outputId": "4435f50d-779b-4a2a-d387-f011713290fd"
      },
      "outputs": [
        {
          "output_type": "stream",
          "name": "stdout",
          "text": [
            "Epoch 1/50\n",
            "151/151 [==============================] - 16s 34ms/step - loss: 2.1081 - accuracy: 0.6489 - val_loss: 1.8864 - val_accuracy: 0.6842\n",
            "Epoch 2/50\n",
            "151/151 [==============================] - 4s 24ms/step - loss: 1.5436 - accuracy: 0.7196 - val_loss: 1.7894 - val_accuracy: 0.7013\n",
            "Epoch 3/50\n",
            "151/151 [==============================] - 4s 24ms/step - loss: 1.3940 - accuracy: 0.7325 - val_loss: 1.7526 - val_accuracy: 0.7066\n",
            "Epoch 4/50\n",
            "151/151 [==============================] - 4s 23ms/step - loss: 1.2870 - accuracy: 0.7420 - val_loss: 1.7441 - val_accuracy: 0.7095\n",
            "Epoch 5/50\n",
            "151/151 [==============================] - 4s 24ms/step - loss: 1.1934 - accuracy: 0.7499 - val_loss: 1.7412 - val_accuracy: 0.7118\n",
            "Epoch 6/50\n",
            "151/151 [==============================] - 4s 25ms/step - loss: 1.1051 - accuracy: 0.7570 - val_loss: 1.7598 - val_accuracy: 0.7158\n",
            "Epoch 7/50\n",
            "151/151 [==============================] - 4s 25ms/step - loss: 1.0177 - accuracy: 0.7648 - val_loss: 1.7909 - val_accuracy: 0.7127\n",
            "Epoch 8/50\n",
            "151/151 [==============================] - 4s 25ms/step - loss: 0.9292 - accuracy: 0.7779 - val_loss: 1.8029 - val_accuracy: 0.7120\n",
            "Epoch 9/50\n",
            "151/151 [==============================] - 4s 25ms/step - loss: 0.8380 - accuracy: 0.7934 - val_loss: 1.8475 - val_accuracy: 0.7138\n",
            "Epoch 10/50\n",
            "151/151 [==============================] - 4s 25ms/step - loss: 0.7463 - accuracy: 0.8113 - val_loss: 1.8859 - val_accuracy: 0.7102\n",
            "Epoch 11/50\n",
            "151/151 [==============================] - 4s 26ms/step - loss: 0.6503 - accuracy: 0.8330 - val_loss: 1.9280 - val_accuracy: 0.7073\n",
            "Epoch 12/50\n",
            "151/151 [==============================] - 4s 28ms/step - loss: 0.5623 - accuracy: 0.8542 - val_loss: 2.0017 - val_accuracy: 0.7051\n",
            "Epoch 13/50\n",
            "151/151 [==============================] - 4s 25ms/step - loss: 0.4805 - accuracy: 0.8767 - val_loss: 2.0468 - val_accuracy: 0.7022\n",
            "Epoch 14/50\n",
            "151/151 [==============================] - 4s 24ms/step - loss: 0.4184 - accuracy: 0.8923 - val_loss: 2.0961 - val_accuracy: 0.6968\n",
            "Epoch 15/50\n",
            "151/151 [==============================] - 4s 26ms/step - loss: 0.3753 - accuracy: 0.9037 - val_loss: 2.1430 - val_accuracy: 0.6991\n",
            "Epoch 16/50\n",
            "151/151 [==============================] - 4s 25ms/step - loss: 0.3446 - accuracy: 0.9101 - val_loss: 2.1871 - val_accuracy: 0.6951\n",
            "Epoch 17/50\n",
            "151/151 [==============================] - 4s 24ms/step - loss: 0.3261 - accuracy: 0.9133 - val_loss: 2.2261 - val_accuracy: 0.6959\n",
            "Epoch 18/50\n",
            "151/151 [==============================] - 4s 26ms/step - loss: 0.3126 - accuracy: 0.9149 - val_loss: 2.2489 - val_accuracy: 0.6981\n",
            "Epoch 19/50\n",
            "151/151 [==============================] - 4s 24ms/step - loss: 0.3025 - accuracy: 0.9165 - val_loss: 2.2609 - val_accuracy: 0.6937\n",
            "Epoch 20/50\n",
            "151/151 [==============================] - 4s 25ms/step - loss: 0.2955 - accuracy: 0.9175 - val_loss: 2.2829 - val_accuracy: 0.6930\n",
            "Epoch 21/50\n",
            "151/151 [==============================] - 4s 27ms/step - loss: 0.2898 - accuracy: 0.9182 - val_loss: 2.3075 - val_accuracy: 0.6978\n",
            "Epoch 22/50\n",
            "151/151 [==============================] - 4s 26ms/step - loss: 0.2853 - accuracy: 0.9179 - val_loss: 2.3141 - val_accuracy: 0.6942\n",
            "Epoch 23/50\n",
            "151/151 [==============================] - 4s 24ms/step - loss: 0.2815 - accuracy: 0.9185 - val_loss: 2.3270 - val_accuracy: 0.6948\n",
            "Epoch 24/50\n",
            "151/151 [==============================] - 4s 26ms/step - loss: 0.2787 - accuracy: 0.9180 - val_loss: 2.3456 - val_accuracy: 0.6940\n",
            "Epoch 25/50\n",
            "151/151 [==============================] - 4s 26ms/step - loss: 0.2769 - accuracy: 0.9186 - val_loss: 2.3577 - val_accuracy: 0.6935\n",
            "Epoch 26/50\n",
            "151/151 [==============================] - 4s 26ms/step - loss: 0.2741 - accuracy: 0.9184 - val_loss: 2.3598 - val_accuracy: 0.6921\n",
            "Epoch 27/50\n",
            "151/151 [==============================] - 4s 26ms/step - loss: 0.2723 - accuracy: 0.9191 - val_loss: 2.3762 - val_accuracy: 0.6941\n",
            "Epoch 28/50\n",
            "151/151 [==============================] - 4s 27ms/step - loss: 0.2696 - accuracy: 0.9184 - val_loss: 2.3873 - val_accuracy: 0.6933\n",
            "Epoch 29/50\n",
            "151/151 [==============================] - 4s 26ms/step - loss: 0.2686 - accuracy: 0.9190 - val_loss: 2.3781 - val_accuracy: 0.6923\n",
            "Epoch 30/50\n",
            "151/151 [==============================] - 4s 26ms/step - loss: 0.2673 - accuracy: 0.9191 - val_loss: 2.3995 - val_accuracy: 0.6955\n",
            "Epoch 31/50\n",
            "151/151 [==============================] - 4s 26ms/step - loss: 0.2653 - accuracy: 0.9182 - val_loss: 2.4016 - val_accuracy: 0.6927\n",
            "Epoch 32/50\n",
            "151/151 [==============================] - 4s 25ms/step - loss: 0.2630 - accuracy: 0.9189 - val_loss: 2.4237 - val_accuracy: 0.6945\n",
            "Epoch 33/50\n",
            "151/151 [==============================] - 4s 24ms/step - loss: 0.2628 - accuracy: 0.9191 - val_loss: 2.4383 - val_accuracy: 0.6943\n",
            "Epoch 34/50\n",
            "151/151 [==============================] - 4s 25ms/step - loss: 0.2622 - accuracy: 0.9195 - val_loss: 2.4303 - val_accuracy: 0.6913\n",
            "Epoch 35/50\n",
            "151/151 [==============================] - 4s 24ms/step - loss: 0.2604 - accuracy: 0.9190 - val_loss: 2.4364 - val_accuracy: 0.6946\n",
            "Epoch 36/50\n",
            "151/151 [==============================] - 4s 25ms/step - loss: 0.2610 - accuracy: 0.9186 - val_loss: 2.4630 - val_accuracy: 0.6936\n",
            "Epoch 37/50\n",
            "151/151 [==============================] - 4s 26ms/step - loss: 0.2593 - accuracy: 0.9189 - val_loss: 2.4739 - val_accuracy: 0.6939\n",
            "Epoch 38/50\n",
            "151/151 [==============================] - 4s 24ms/step - loss: 0.2579 - accuracy: 0.9198 - val_loss: 2.4657 - val_accuracy: 0.6903\n",
            "Epoch 39/50\n",
            "151/151 [==============================] - 4s 25ms/step - loss: 0.2572 - accuracy: 0.9191 - val_loss: 2.4981 - val_accuracy: 0.6941\n",
            "Epoch 40/50\n",
            "151/151 [==============================] - 4s 26ms/step - loss: 0.2565 - accuracy: 0.9196 - val_loss: 2.4879 - val_accuracy: 0.6928\n",
            "Epoch 41/50\n",
            "151/151 [==============================] - 4s 26ms/step - loss: 0.2561 - accuracy: 0.9195 - val_loss: 2.5127 - val_accuracy: 0.6945\n",
            "Epoch 42/50\n",
            "151/151 [==============================] - 4s 24ms/step - loss: 0.2552 - accuracy: 0.9194 - val_loss: 2.5043 - val_accuracy: 0.6909\n",
            "Epoch 43/50\n",
            "151/151 [==============================] - 4s 26ms/step - loss: 0.2553 - accuracy: 0.9189 - val_loss: 2.5277 - val_accuracy: 0.6906\n",
            "Epoch 44/50\n",
            "151/151 [==============================] - 4s 26ms/step - loss: 0.2541 - accuracy: 0.9200 - val_loss: 2.5132 - val_accuracy: 0.6927\n",
            "Epoch 45/50\n",
            "151/151 [==============================] - 4s 25ms/step - loss: 0.2529 - accuracy: 0.9195 - val_loss: 2.5370 - val_accuracy: 0.6906\n",
            "Epoch 46/50\n",
            "151/151 [==============================] - 4s 24ms/step - loss: 0.2522 - accuracy: 0.9202 - val_loss: 2.5233 - val_accuracy: 0.6915\n",
            "Epoch 47/50\n",
            "151/151 [==============================] - 4s 26ms/step - loss: 0.2517 - accuracy: 0.9200 - val_loss: 2.5579 - val_accuracy: 0.6928\n",
            "Epoch 48/50\n",
            "151/151 [==============================] - 4s 24ms/step - loss: 0.2503 - accuracy: 0.9200 - val_loss: 2.5491 - val_accuracy: 0.6944\n",
            "Epoch 49/50\n",
            "151/151 [==============================] - 4s 25ms/step - loss: 0.2506 - accuracy: 0.9198 - val_loss: 2.5442 - val_accuracy: 0.6910\n",
            "Epoch 50/50\n",
            "151/151 [==============================] - 4s 26ms/step - loss: 0.2549 - accuracy: 0.9183 - val_loss: 2.4388 - val_accuracy: 0.6964\n"
          ]
        }
      ],
      "source": [
        "hist = model.fit(\n",
        "    [encoder_input_sequences, decoder_input_sequences],\n",
        "    decoder_targets,\n",
        "    epochs=50,\n",
        "    validation_split=0.2)"
      ]
    },
    {
      "cell_type": "code",
      "execution_count": 28,
      "metadata": {
        "id": "qZtxfHGAzBVp",
        "colab": {
          "base_uri": "https://localhost:8080/",
          "height": 430
        },
        "outputId": "4ad9d71b-879d-4c3a-e384-1247f397a9eb"
      },
      "outputs": [
        {
          "output_type": "display_data",
          "data": {
            "text/plain": [
              "<Figure size 640x480 with 1 Axes>"
            ],
            "image/png": "[encoded data removed]"
          },
          "metadata": {}
        }
      ],
      "source": [
        "import matplotlib.pyplot as plt\n",
        "import seaborn as sns\n",
        "\n",
        "# Entrenamiento\n",
        "epoch_count = range(1, len(hist.history['accuracy']) + 1)\n",
        "sns.lineplot(x=epoch_count,  y=hist.history['accuracy'], label='train')\n",
        "sns.lineplot(x=epoch_count,  y=hist.history['val_accuracy'], label='valid')\n",
        "plt.show()"
      ]
    },
    {
      "cell_type": "markdown",
      "metadata": {
        "id": "Zbwn0ekDy_s2"
      },
      "source": [
        "### 5 - Inferencia\n",
        "Experimentar el funcionamiento de su modelo. Recuerde que debe realizar la inferencia de los modelos por separado de encoder y decoder."
      ]
    },
    {
      "cell_type": "code",
      "execution_count": 29,
      "metadata": {
        "id": "H-UV6rHUzMTS"
      },
      "outputs": [],
      "source": [
        "# Armar los conversores de índice a palabra:\n",
        "idx2word_input = {v:k for k, v in word2idx_inputs.items()}\n",
        "idx2word_target = {v:k for k, v in word2idx_outputs.items()}"
      ]
    },
    {
      "cell_type": "code",
      "execution_count": 30,
      "metadata": {
        "id": "1nGCAAMDzNNB"
      },
      "outputs": [],
      "source": [
        "def response(input_seq):\n",
        "    # Se transforma la sequencia de entrada a los estados \"h\" y \"c\" de la LSTM\n",
        "    # para enviar la primera vez al decoder\n",
        "    states_value = encoder_model.predict(input_seq)\n",
        "\n",
        "    # Se inicializa la secuencia de entrada al decoder como \"<sos>\"\n",
        "    target_seq = np.zeros((1, 1))\n",
        "    target_seq[0, 0] = word2idx_outputs['<sos>']\n",
        "\n",
        "    # Se obtiene el índice que finaliza la inferencia\n",
        "    eos = word2idx_outputs['<eos>']\n",
        "\n",
        "    output_sentence = []\n",
        "    for _ in range(max_out_len):\n",
        "        # Predicción del próximo elemento\n",
        "        output_tokens, h, c = decoder_model.predict([target_seq] + states_value)\n",
        "\n",
        "        idx = np.argmax(output_tokens[0, 0, :])\n",
        "\n",
        "        # Si es \"end of sentece <eos>\" se acaba\n",
        "        if eos == idx:\n",
        "            break\n",
        "\n",
        "        # Transformar idx a palabra\n",
        "        word = ''\n",
        "        if idx > 0:\n",
        "            word = idx2word_target[idx]\n",
        "            output_sentence.append(word)\n",
        "\n",
        "        # Actualizar los estados dada la última predicción\n",
        "        states_value = [h, c]\n",
        "\n",
        "        # Actualizar secuencia de entrada con la salida (re-alimentación)\n",
        "        target_seq[0, 0] = idx\n",
        "\n",
        "    return ' '.join(output_sentence)"
      ]
    },
    {
      "cell_type": "code",
      "execution_count": 31,
      "metadata": {
        "colab": {
          "base_uri": "https://localhost:8080/"
        },
        "id": "QxLw_zb2zQHx",
        "outputId": "ab556345-7a23-4e27-e4ff-58a9e149c138"
      },
      "outputs": [
        {
          "output_type": "stream",
          "name": "stdout",
          "text": [
            "1/1 [==============================] - 0s 403ms/step\n",
            "1/1 [==============================] - 0s 362ms/step\n",
            "1/1 [==============================] - 0s 24ms/step\n",
            "1/1 [==============================] - 0s 22ms/step\n",
            "1/1 [==============================] - 0s 22ms/step\n",
            "1/1 [==============================] - 0s 20ms/step\n",
            "1/1 [==============================] - 0s 23ms/step\n",
            "1/1 [==============================] - 0s 26ms/step\n",
            "1/1 [==============================] - 0s 23ms/step\n",
            "-\n",
            "Input: bye\n",
            "Response: i hope you have a good day\n"
          ]
        }
      ],
      "source": [
        "i = np.random.choice(len(input_sentences))\n",
        "input_seq = encoder_input_sequences[i:i+1]\n",
        "bot_response = response(input_seq)\n",
        "print('-')\n",
        "print('Input:', input_sentences[i])\n",
        "print('Response:', bot_response)"
      ]
    },
    {
      "cell_type": "code",
      "source": [
        "input_test = \"Do you read?\"\n",
        "print('Input:', input_test)\n",
        "integer_seq_test = input_tokenizer.texts_to_sequences([input_test])[0]\n",
        "print(\"Representacion en vector de tokens de ids\", integer_seq_test)\n",
        "encoder_sequence_test = pad_sequences([integer_seq_test], maxlen=max_input_len)\n",
        "print(\"Padding del vector:\", encoder_sequence_test)\n",
        "\n",
        "print('Input:', input_test)\n",
        "bot_response = response(encoder_sequence_test)\n",
        "print('Response:', bot_response)"
      ],
      "metadata": {
        "colab": {
          "base_uri": "https://localhost:8080/"
        },
        "id": "wZbLW-gOAJOq",
        "outputId": "903367ad-500d-4670-ea8b-efb060c288cb"
      },
      "execution_count": 32,
      "outputs": [
        {
          "output_type": "stream",
          "name": "stdout",
          "text": [
            "Input: Do you read?\n",
            "Representacion en vector de tokens de ids [3, 2, 23]\n",
            "Padding del vector: [[ 0  0  0  0  0  0  0  0  0  0  0  0  0  0  0  0  0  3  2 23]]\n",
            "Input: Do you read?\n",
            "1/1 [==============================] - 0s 22ms/step\n",
            "1/1 [==============================] - 0s 20ms/step\n",
            "1/1 [==============================] - 0s 23ms/step\n",
            "1/1 [==============================] - 0s 21ms/step\n",
            "1/1 [==============================] - 0s 21ms/step\n",
            "1/1 [==============================] - 0s 22ms/step\n",
            "1/1 [==============================] - 0s 22ms/step\n",
            "Response: i like to read books\n"
          ]
        }
      ]
    },
    {
      "cell_type": "code",
      "source": [
        "input_test = \"Do you have any pet?\"\n",
        "print('Input:', input_test)\n",
        "integer_seq_test = input_tokenizer.texts_to_sequences([input_test])[0]\n",
        "print(\"Representacion en vector de tokens de ids\", integer_seq_test)\n",
        "encoder_sequence_test = pad_sequences([integer_seq_test], maxlen=max_input_len)\n",
        "print(\"Padding del vector:\", encoder_sequence_test)\n",
        "\n",
        "print('Input:', input_test)\n",
        "bot_response = response(encoder_sequence_test)\n",
        "print('Response:', bot_response)"
      ],
      "metadata": {
        "colab": {
          "base_uri": "https://localhost:8080/"
        },
        "id": "QwmEDUd_AW7J",
        "outputId": "6617d1b5-64f4-4e65-e6ec-c22965bd4883"
      },
      "execution_count": 33,
      "outputs": [
        {
          "output_type": "stream",
          "name": "stdout",
          "text": [
            "Input: Do you have any pet?\n",
            "Representacion en vector de tokens de ids [3, 2, 16, 31, 252]\n",
            "Padding del vector: [[  0   0   0   0   0   0   0   0   0   0   0   0   0   0   0   3   2  16\n",
            "   31 252]]\n",
            "Input: Do you have any pet?\n",
            "1/1 [==============================] - 0s 20ms/step\n",
            "1/1 [==============================] - 0s 24ms/step\n",
            "1/1 [==============================] - 0s 25ms/step\n",
            "1/1 [==============================] - 0s 22ms/step\n",
            "1/1 [==============================] - 0s 25ms/step\n",
            "1/1 [==============================] - 0s 24ms/step\n",
            "1/1 [==============================] - 0s 20ms/step\n",
            "Response: yes i have a dog\n"
          ]
        }
      ]
    },
    {
      "cell_type": "code",
      "execution_count": 34,
      "metadata": {
        "colab": {
          "base_uri": "https://localhost:8080/"
        },
        "id": "jagliJxaV2Q-",
        "outputId": "fec9811b-441c-485f-c6be-1166a8f8b986"
      },
      "outputs": [
        {
          "output_type": "stream",
          "name": "stdout",
          "text": [
            "Input: hello, how are you?\n",
            "Representacion en vector de tokens de ids [19, 10, 7, 2]\n",
            "Padding del vector: [[ 0  0  0  0  0  0  0  0  0  0  0  0  0  0  0  0 19 10  7  2]]\n",
            "Input: hello, how are you?\n",
            "1/1 [==============================] - 0s 19ms/step\n",
            "1/1 [==============================] - 0s 23ms/step\n",
            "1/1 [==============================] - 0s 21ms/step\n",
            "1/1 [==============================] - 0s 26ms/step\n",
            "1/1 [==============================] - 0s 21ms/step\n",
            "Response: i m fine\n"
          ]
        }
      ],
      "source": [
        "input_test = \"hello, how are you?\"\n",
        "print('Input:', input_test)\n",
        "integer_seq_test = input_tokenizer.texts_to_sequences([input_test])[0]\n",
        "print(\"Representacion en vector de tokens de ids\", integer_seq_test)\n",
        "encoder_sequence_test = pad_sequences([integer_seq_test], maxlen=max_input_len)\n",
        "print(\"Padding del vector:\", encoder_sequence_test)\n",
        "\n",
        "print('Input:', input_test)\n",
        "bot_response = response(encoder_sequence_test)\n",
        "print('Response:', bot_response)"
      ]
    },
    {
      "cell_type": "code",
      "execution_count": 35,
      "metadata": {
        "colab": {
          "base_uri": "https://localhost:8080/"
        },
        "id": "LkFzGTpnzYVy",
        "outputId": "e4beeb7b-10bf-4203-9b36-ed520a1e35c2"
      },
      "outputs": [
        {
          "output_type": "stream",
          "name": "stdout",
          "text": [
            "Input: what do you like to do\n",
            "Representacion en vector de tokens de ids [4, 3, 2, 12, 6, 3]\n",
            "Padding del vector: [[ 0  0  0  0  0  0  0  0  0  0  0  0  0  0  4  3  2 12  6  3]]\n",
            "Input: what do you like to do\n",
            "1/1 [==============================] - 0s 21ms/step\n",
            "1/1 [==============================] - 0s 22ms/step\n",
            "1/1 [==============================] - 0s 20ms/step\n",
            "1/1 [==============================] - 0s 21ms/step\n",
            "1/1 [==============================] - 0s 22ms/step\n",
            "1/1 [==============================] - 0s 23ms/step\n",
            "1/1 [==============================] - 0s 21ms/step\n",
            "1/1 [==============================] - 0s 30ms/step\n",
            "Response: i like to play video games\n"
          ]
        }
      ],
      "source": [
        "input_test = \"what do you like to do\"\n",
        "print('Input:', input_test)\n",
        "integer_seq_test = input_tokenizer.texts_to_sequences([input_test])[0]\n",
        "print(\"Representacion en vector de tokens de ids\", integer_seq_test)\n",
        "encoder_sequence_test = pad_sequences([integer_seq_test], maxlen=max_input_len)\n",
        "print(\"Padding del vector:\", encoder_sequence_test)\n",
        "\n",
        "print('Input:', input_test)\n",
        "bot_response = response(encoder_sequence_test)\n",
        "print('Response:', bot_response)"
      ]
    },
    {
      "cell_type": "code",
      "execution_count": 36,
      "metadata": {
        "colab": {
          "base_uri": "https://localhost:8080/"
        },
        "id": "7Jpkugrt7YdR",
        "outputId": "04fba975-20f9-46b3-9066-2e329369139a"
      },
      "outputs": [
        {
          "output_type": "stream",
          "name": "stdout",
          "text": [
            "Input: what do you do for a living\n",
            "Representacion en vector de tokens de ids [4, 3, 2, 3, 8, 5, 13]\n",
            "Padding del vector: [[ 0  0  0  0  0  0  0  0  0  0  0  0  0  4  3  2  3  8  5 13]]\n",
            "Input: what do you do for a living\n",
            "1/1 [==============================] - 0s 23ms/step\n",
            "1/1 [==============================] - 0s 24ms/step\n",
            "1/1 [==============================] - 0s 21ms/step\n",
            "1/1 [==============================] - 0s 21ms/step\n",
            "1/1 [==============================] - 0s 21ms/step\n",
            "1/1 [==============================] - 0s 23ms/step\n",
            "1/1 [==============================] - 0s 21ms/step\n",
            "Response: i m a teacher coach\n"
          ]
        }
      ],
      "source": [
        "input_test = \"what do you do for a living\"\n",
        "print('Input:', input_test)\n",
        "integer_seq_test = input_tokenizer.texts_to_sequences([input_test])[0]\n",
        "print(\"Representacion en vector de tokens de ids\", integer_seq_test)\n",
        "encoder_sequence_test = pad_sequences([integer_seq_test], maxlen=max_input_len)\n",
        "print(\"Padding del vector:\", encoder_sequence_test)\n",
        "\n",
        "print('Input:', input_test)\n",
        "bot_response = response(encoder_sequence_test)\n",
        "print('Response:', bot_response)"
      ]
    },
    {
      "cell_type": "code",
      "execution_count": 37,
      "metadata": {
        "colab": {
          "base_uri": "https://localhost:8080/"
        },
        "id": "A6ZCoOS1WCLN",
        "outputId": "a051bfc0-cfab-46c2-e44c-67838c448c0c"
      },
      "outputs": [
        {
          "output_type": "stream",
          "name": "stdout",
          "text": [
            "Input: How old are you?\n",
            "Representacion en vector de tokens de ids [10, 64, 7, 2]\n",
            "Padding del vector: [[ 0  0  0  0  0  0  0  0  0  0  0  0  0  0  0  0 10 64  7  2]]\n",
            "Input: How old are you?\n",
            "1/1 [==============================] - 0s 18ms/step\n",
            "1/1 [==============================] - 0s 22ms/step\n",
            "1/1 [==============================] - 0s 21ms/step\n",
            "1/1 [==============================] - 0s 22ms/step\n",
            "1/1 [==============================] - 0s 23ms/step\n",
            "1/1 [==============================] - 0s 21ms/step\n",
            "1/1 [==============================] - 0s 26ms/step\n",
            "1/1 [==============================] - 0s 22ms/step\n",
            "Response: ask am 32 i am 32\n"
          ]
        }
      ],
      "source": [
        "input_test = \"How old are you?\"\n",
        "print('Input:', input_test)\n",
        "integer_seq_test = input_tokenizer.texts_to_sequences([input_test])[0]\n",
        "print(\"Representacion en vector de tokens de ids\", integer_seq_test)\n",
        "encoder_sequence_test = pad_sequences([integer_seq_test], maxlen=max_input_len)\n",
        "print(\"Padding del vector:\", encoder_sequence_test)\n",
        "\n",
        "print('Input:', input_test)\n",
        "bot_response = response(encoder_sequence_test)\n",
        "print('Response:', bot_response)"
      ]
    },
    {
      "cell_type": "code",
      "source": [
        "input_test = \"where are you from?\"\n",
        "print('Input:', input_test)\n",
        "integer_seq_test = input_tokenizer.texts_to_sequences([input_test])[0]\n",
        "print(\"Representacion en vector de tokens de ids\", integer_seq_test)\n",
        "encoder_sequence_test = pad_sequences([integer_seq_test], maxlen=max_input_len)\n",
        "print(\"Padding del vector:\", encoder_sequence_test)\n",
        "\n",
        "print('Input:', input_test)\n",
        "bot_response = response(encoder_sequence_test)\n",
        "print('Response:', bot_response)"
      ],
      "metadata": {
        "colab": {
          "base_uri": "https://localhost:8080/"
        },
        "id": "f-rWuy28qfmy",
        "outputId": "719aca75-cc16-4230-c479-ef84d9a9cf9e"
      },
      "execution_count": 38,
      "outputs": [
        {
          "output_type": "stream",
          "name": "stdout",
          "text": [
            "Input: where are you from?\n",
            "Representacion en vector de tokens de ids [52, 7, 2, 39]\n",
            "Padding del vector: [[ 0  0  0  0  0  0  0  0  0  0  0  0  0  0  0  0 52  7  2 39]]\n",
            "Input: where are you from?\n",
            "1/1 [==============================] - 0s 19ms/step\n",
            "1/1 [==============================] - 0s 20ms/step\n",
            "1/1 [==============================] - 0s 21ms/step\n",
            "1/1 [==============================] - 0s 21ms/step\n",
            "1/1 [==============================] - 0s 22ms/step\n",
            "1/1 [==============================] - 0s 22ms/step\n",
            "1/1 [==============================] - 0s 25ms/step\n",
            "1/1 [==============================] - 0s 19ms/step\n",
            "Response: i am from russia and you\n"
          ]
        }
      ]
    },
    {
      "cell_type": "code",
      "source": [
        "input_test = \"do you like to live in russia?\"\n",
        "print('Input:', input_test)\n",
        "integer_seq_test = input_tokenizer.texts_to_sequences([input_test])[0]\n",
        "print(\"Representacion en vector de tokens de ids\", integer_seq_test)\n",
        "encoder_sequence_test = pad_sequences([integer_seq_test], maxlen=max_input_len)\n",
        "print(\"Padding del vector:\", encoder_sequence_test)\n",
        "\n",
        "print('Input:', input_test)\n",
        "bot_response = response(encoder_sequence_test)\n",
        "print('Response:', bot_response)"
      ],
      "metadata": {
        "colab": {
          "base_uri": "https://localhost:8080/"
        },
        "id": "l4Au2i2syFoy",
        "outputId": "2806804c-3d50-41c6-a08e-0318c8ca65f6"
      },
      "execution_count": 39,
      "outputs": [
        {
          "output_type": "stream",
          "name": "stdout",
          "text": [
            "Input: do you like to live in russia?\n",
            "Representacion en vector de tokens de ids [3, 2, 12, 6, 75, 33, 360]\n",
            "Padding del vector: [[  0   0   0   0   0   0   0   0   0   0   0   0   0   3   2  12   6  75\n",
            "   33 360]]\n",
            "Input: do you like to live in russia?\n",
            "1/1 [==============================] - 0s 25ms/step\n",
            "1/1 [==============================] - 0s 21ms/step\n",
            "1/1 [==============================] - 0s 22ms/step\n",
            "Response: yes\n"
          ]
        }
      ]
    },
    {
      "cell_type": "code",
      "execution_count": 40,
      "metadata": {
        "id": "jVR4HqtgUcJp"
      },
      "outputs": [],
      "source": [
        "# # Se utilizará gradio para ensayar el modelo\n",
        "# # Herramienta poderosa para crear interfaces rápidas para ensayar modelos\n",
        "# # https://gradio.app/\n",
        "# import sys\n",
        "# !{sys.executable} -m pip install gradio --quiet"
      ]
    },
    {
      "cell_type": "code",
      "execution_count": 41,
      "metadata": {
        "id": "hYH4uNUGTZ-P"
      },
      "outputs": [],
      "source": [
        "# import gradio as gr\n",
        "\n",
        "# def model_response(human_text):\n",
        "\n",
        "#   integer_seq_test = input_tokenizer.texts_to_sequences([human_text])[0]\n",
        "#   encoder_sequence_test = pad_sequences([integer_seq_test], maxlen=max_input_len)\n",
        "#   bot_response = response(encoder_sequence_test)\n",
        "\n",
        "#     # Agrego la palabra a la frase predicha\n",
        "#   return bot_response\n",
        "\n",
        "# iface = gr.Interface(\n",
        "#     fn=model_response,\n",
        "#     inputs=[\"textbox\"],\n",
        "#     outputs=\"text\",\n",
        "#     layout=\"vertical\")\n",
        "\n",
        "# iface.launch(debug=True)"
      ]
    }
  ],
  "metadata": {
    "accelerator": "GPU",
    "colab": {
      "provenance": []
    },
    "kernelspec": {
      "display_name": "Python 3.10.6 64-bit",
      "language": "python",
      "name": "python3"
    },
    "language_info": {
      "name": "python",
      "version": "3.9.18"
    },
    "vscode": {
      "interpreter": {
        "hash": "916dbcbb3f70747c44a77c7bcd40155683ae19c65e1c03b4aa3499c5328201f1"
      }
    }
  },
  "nbformat": 4,
  "nbformat_minor": 0
}