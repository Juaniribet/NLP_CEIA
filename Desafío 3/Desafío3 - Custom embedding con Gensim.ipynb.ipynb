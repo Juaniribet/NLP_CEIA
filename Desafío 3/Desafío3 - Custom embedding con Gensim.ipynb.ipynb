{
 "cells": [
  {
   "cell_type": "markdown",
   "metadata": {
    "id": "sZd5yLnnHOK0"
   },
   "source": [
    "<img src=\"https://github.com/hernancontigiani/ceia_memorias_especializacion/raw/master/Figures/logoFIUBA.jpg\" width=\"500\" align=\"center\">\n",
    "\n",
    "\n",
    "# Procesamiento de lenguaje natural\n",
    "## Custom embedddings con Gensim\n",
    "\n"
   ]
  },
  {
   "cell_type": "markdown",
   "metadata": {},
   "source": [
    "### Alumno\n",
    "\n",
    "- Crear sus propios vectores con Gensim basado en lo visto en clase con otro dataset.\n",
    "- Probar términos de interés y explicar similitudes en el espacio de embeddings (sacar conclusiones entre palabras similitudes y diferencias).\n",
    "- Graficarlos.\n",
    "- Obtener conclusiones."
   ]
  },
  {
   "cell_type": "markdown",
   "metadata": {
    "id": "vA7nqkumo9z9"
   },
   "source": [
    "### Objetivo\n",
    "El objetivo es utilizar documentos / corpus para crear embeddings de palabras basado en ese contexto. Se utilizará el primer libro de 'Lord of the Rings' para generar los embeddings, es decir, que los vectores tendrán la forma en función de como esta escrito el libro."
   ]
  },
  {
   "cell_type": "code",
   "execution_count": 1,
   "metadata": {
    "id": "lFToQs5FK5uZ"
   },
   "outputs": [],
   "source": [
    "import pandas as pd\n",
    "import matplotlib.pyplot as plt\n",
    "import seaborn as sns\n",
    "\n",
    "import multiprocessing\n",
    "from gensim.models import Word2Vec\n",
    "import os\n",
    "import re"
   ]
  },
  {
   "cell_type": "markdown",
   "metadata": {
    "id": "g07zJxG7H9vG"
   },
   "source": [
    "### Datos\n",
    "Utilizaremos como dataset los libros 'Lord of the Rings'"
   ]
  },
  {
   "cell_type": "code",
   "execution_count": 2,
   "metadata": {
    "id": "mysGrIw9ljC2"
   },
   "outputs": [
    {
     "data": {
      "text/plain": [
       "['01 - The Fellowship Of The Ring.txt',\n",
       " '02 - The Two Towers.txt',\n",
       " '03 - The Return Of The King.txt']"
      ]
     },
     "execution_count": 2,
     "metadata": {},
     "output_type": "execute_result"
    }
   ],
   "source": [
    "# Posibles bandas\n",
    "os.listdir(\"./book_dataset/\")"
   ]
  },
  {
   "cell_type": "code",
   "execution_count": 122,
   "metadata": {
    "id": "ticoqYD1Z3I7"
   },
   "outputs": [
    {
     "name": "stderr",
     "output_type": "stream",
     "text": [
      "/tmp/ipykernel_8023/1647752081.py:2: ParserWarning:\n",
      "\n",
      "Falling back to the 'python' engine because the 'c' engine does not support regex separators (separators > 1 char and different from '\\s+' are interpreted as regex); you can avoid this warning by specifying engine='python'.\n",
      "\n"
     ]
    },
    {
     "data": {
      "text/html": [
       "<div>\n",
       "<style scoped>\n",
       "    .dataframe tbody tr th:only-of-type {\n",
       "        vertical-align: middle;\n",
       "    }\n",
       "\n",
       "    .dataframe tbody tr th {\n",
       "        vertical-align: top;\n",
       "    }\n",
       "\n",
       "    .dataframe thead th {\n",
       "        text-align: right;\n",
       "    }\n",
       "</style>\n",
       "<table border=\"1\" class=\"dataframe\">\n",
       "  <thead>\n",
       "    <tr style=\"text-align: right;\">\n",
       "      <th></th>\n",
       "      <th>0</th>\n",
       "    </tr>\n",
       "  </thead>\n",
       "  <tbody>\n",
       "    <tr>\n",
       "      <th>0</th>\n",
       "      <td>Three Rings for the Elven-kings under the sky,</td>\n",
       "    </tr>\n",
       "    <tr>\n",
       "      <th>1</th>\n",
       "      <td>Seven for the Dwarf-lords in their halls of st...</td>\n",
       "    </tr>\n",
       "    <tr>\n",
       "      <th>2</th>\n",
       "      <td>Nine for Mortal Men doomed to die,</td>\n",
       "    </tr>\n",
       "    <tr>\n",
       "      <th>3</th>\n",
       "      <td>One for the Dark Lord on his dark throne</td>\n",
       "    </tr>\n",
       "    <tr>\n",
       "      <th>4</th>\n",
       "      <td>In the Land of Mordor where the Shadows lie.</td>\n",
       "    </tr>\n",
       "  </tbody>\n",
       "</table>\n",
       "</div>"
      ],
      "text/plain": [
       "                                                   0\n",
       "0     Three Rings for the Elven-kings under the sky,\n",
       "1  Seven for the Dwarf-lords in their halls of st...\n",
       "2                 Nine for Mortal Men doomed to die,\n",
       "3           One for the Dark Lord on his dark throne\n",
       "4       In the Land of Mordor where the Shadows lie."
      ]
     },
     "execution_count": 122,
     "metadata": {},
     "output_type": "execute_result"
    }
   ],
   "source": [
    "# Armar el dataset utilizando salto de línea para separar las oraciones/docs\n",
    "df = pd.read_csv('./book_dataset//01 - The Fellowship Of The Ring.txt', sep='/n', header=None, encoding='latin-1')\n",
    "# df1 = pd.read_csv('./book_dataset//01 - The Fellowship Of The Ring.txt', sep='/n', header=None, encoding='latin-1')\n",
    "# df2 = pd.read_csv('./book_dataset//02 - The Two Towers.txt', sep='/n', header=None, encoding='latin-1')\n",
    "# df3 = pd.read_csv('./book_dataset//03 - The Return Of The King.txt', sep='/n', header=None, encoding='latin-1')\n",
    "# df = pd.concat([df1, df2, df3], ignore_index=True)\n",
    "df.head()"
   ]
  },
  {
   "cell_type": "code",
   "execution_count": 123,
   "metadata": {
    "id": "LEpKubK9XzXN"
   },
   "outputs": [
    {
     "name": "stdout",
     "output_type": "stream",
     "text": [
      "Cantidad de documentos: 3866\n"
     ]
    }
   ],
   "source": [
    "print(\"Cantidad de documentos:\", df.shape[0])"
   ]
  },
  {
   "cell_type": "markdown",
   "metadata": {
    "id": "ab94qaFlrA1G"
   },
   "source": [
    "### 1 - Preprocesamiento"
   ]
  },
  {
   "cell_type": "code",
   "execution_count": 124,
   "metadata": {
    "id": "rIsmMWmjrDHd"
   },
   "outputs": [],
   "source": [
    "from keras.preprocessing.text import text_to_word_sequence\n",
    "\n",
    "sentence_tokens = []\n",
    "# Recorrer todas las filas y transformar las oraciones\n",
    "# en una secuencia de palabras (esto podría realizarse con NLTK o spaCy también)\n",
    "for _, row in df[:None].iterrows():\n",
    "    sentence_tokens.append(text_to_word_sequence(row[0]))"
   ]
  },
  {
   "cell_type": "code",
   "execution_count": 125,
   "metadata": {
    "id": "CHepi_DGrbhq"
   },
   "outputs": [
    {
     "data": {
      "text/plain": [
       "[['three', 'rings', 'for', 'the', 'elven', 'kings', 'under', 'the', 'sky'],\n",
       " ['seven',\n",
       "  'for',\n",
       "  'the',\n",
       "  'dwarf',\n",
       "  'lords',\n",
       "  'in',\n",
       "  'their',\n",
       "  'halls',\n",
       "  'of',\n",
       "  'stone']]"
      ]
     },
     "execution_count": 125,
     "metadata": {},
     "output_type": "execute_result"
    }
   ],
   "source": [
    "# Demos un vistazo\n",
    "sentence_tokens[:2]"
   ]
  },
  {
   "cell_type": "code",
   "execution_count": 126,
   "metadata": {},
   "outputs": [
    {
     "data": {
      "text/plain": [
       "3866"
      ]
     },
     "execution_count": 126,
     "metadata": {},
     "output_type": "execute_result"
    }
   ],
   "source": [
    "len(sentence_tokens)"
   ]
  },
  {
   "cell_type": "markdown",
   "metadata": {},
   "source": [
    "Transformo las oraciones con NLTK para verificar"
   ]
  },
  {
   "cell_type": "code",
   "execution_count": 127,
   "metadata": {},
   "outputs": [
    {
     "name": "stderr",
     "output_type": "stream",
     "text": [
      "[nltk_data] Downloading package punkt to /home/juaniribet/nltk_data...\n",
      "[nltk_data]   Package punkt is already up-to-date!\n",
      "[nltk_data] Downloading package wordnet to\n",
      "[nltk_data]     /home/juaniribet/nltk_data...\n",
      "[nltk_data]   Package wordnet is already up-to-date!\n",
      "[nltk_data] Downloading package omw-1.4 to\n",
      "[nltk_data]     /home/juaniribet/nltk_data...\n",
      "[nltk_data]   Package omw-1.4 is already up-to-date!\n"
     ]
    },
    {
     "data": {
      "text/plain": [
       "True"
      ]
     },
     "execution_count": 127,
     "metadata": {},
     "output_type": "execute_result"
    }
   ],
   "source": [
    "import nltk\n",
    "# Descargar el diccionario\n",
    "nltk.download(\"punkt\")\n",
    "nltk.download(\"wordnet\")\n",
    "nltk.download('omw-1.4')"
   ]
  },
  {
   "cell_type": "code",
   "execution_count": 128,
   "metadata": {},
   "outputs": [],
   "source": [
    "sentence_tokens_NLTK = []\n",
    "pattern = r'[^a-zA-z0-9/\\'\\\"s]'\n",
    "for _, row in df[:None].iterrows():\n",
    "    words = re.sub(pattern, ' ', row[0])\n",
    "    words = re.sub(r'[_]', ' ', words)\n",
    "    #words = words.translate(str.maketrans({\"'\":None}))\n",
    "    #words = words.replace(\"'\", \" \")\n",
    "    words = words.lower()\n",
    "    sentence_tokens_NLTK.append(nltk.word_tokenize(words))"
   ]
  },
  {
   "cell_type": "code",
   "execution_count": 129,
   "metadata": {},
   "outputs": [
    {
     "data": {
      "text/plain": [
       "[['three', 'rings', 'for', 'the', 'elven', 'kings', 'under', 'the', 'sky'],\n",
       " ['seven',\n",
       "  'for',\n",
       "  'the',\n",
       "  'dwarf',\n",
       "  'lords',\n",
       "  'in',\n",
       "  'their',\n",
       "  'halls',\n",
       "  'of',\n",
       "  'stone']]"
      ]
     },
     "execution_count": 129,
     "metadata": {},
     "output_type": "execute_result"
    }
   ],
   "source": [
    "# Demos un vistazo\n",
    "sentence_tokens_NLTK[:2]"
   ]
  },
  {
   "cell_type": "code",
   "execution_count": 130,
   "metadata": {},
   "outputs": [
    {
     "data": {
      "text/plain": [
       "3866"
      ]
     },
     "execution_count": 130,
     "metadata": {},
     "output_type": "execute_result"
    }
   ],
   "source": [
    "len(sentence_tokens_NLTK)"
   ]
  },
  {
   "cell_type": "code",
   "execution_count": 131,
   "metadata": {},
   "outputs": [
    {
     "data": {
      "text/plain": [
       "11"
      ]
     },
     "execution_count": 131,
     "metadata": {},
     "output_type": "execute_result"
    }
   ],
   "source": [
    "# Verifico las diferencias entre el procesamiento de las palabras \n",
    "dif_words = []\n",
    "q_dif_words = 0\n",
    "for i, j in zip (sentence_tokens, sentence_tokens_NLTK):\n",
    "    if i != j:\n",
    "        for l, k in zip(i,j):\n",
    "            if l != k:\n",
    "                dif_words.append([l,k])\n",
    "                q_dif_words+=1\n",
    "            if q_dif_words > 10:\n",
    "                break\n",
    "    if q_dif_words > 10:\n",
    "                break    \n",
    "len(dif_words)\n"
   ]
  },
  {
   "cell_type": "code",
   "execution_count": 132,
   "metadata": {},
   "outputs": [
    {
     "data": {
      "text/plain": [
       "[[\"'history'\", \"'history\"],\n",
       " ['for', \"'\"],\n",
       " ['elvish', 'for'],\n",
       " ['tongues', 'elvish'],\n",
       " [\"balin's\", 'balin'],\n",
       " ['tomb', \"'s\"],\n",
       " ['in', 'tomb'],\n",
       " ['moria', 'in'],\n",
       " ['there', 'moria'],\n",
       " ['i', 'there'],\n",
       " ['halted', 'i']]"
      ]
     },
     "execution_count": 132,
     "metadata": {},
     "output_type": "execute_result"
    }
   ],
   "source": [
    "dif_words"
   ]
  },
  {
   "cell_type": "markdown",
   "metadata": {},
   "source": [
    "Si bien la cantidad de elementos en 'sentence_tokens' en las dos formas es igual (3866) algunas palabras se procesan de forma diferente como se ve en los ejemplos '['for', \" ' \"] eso va a generar que el vocabulario sea diferente y los resultados también.\n",
    "\n",
    "Probe sacando el apostofe y el problema se traslada a '[\"balin's\", 'balin']' y no encontre como dejar el \" ' \" cuando esta de esta manera"
   ]
  },
  {
   "cell_type": "markdown",
   "metadata": {
    "id": "BaXV6nlHr5Aa"
   },
   "source": [
    "### 2 - Crear los vectores (word2vec)"
   ]
  },
  {
   "cell_type": "code",
   "execution_count": 139,
   "metadata": {
    "id": "OSb0v7h8r7hK"
   },
   "outputs": [],
   "source": [
    "from gensim.models.callbacks import CallbackAny2Vec\n",
    "# Durante el entrenamiento gensim por defecto no informa el \"loss\" en cada época\n",
    "# Sobrecargamos el callback para poder tener esta información\n",
    "class callback(CallbackAny2Vec):\n",
    "    \"\"\"\n",
    "    Callback to print loss after each epoch\n",
    "    \"\"\"\n",
    "    def __init__(self):\n",
    "        self.epoch = 0\n",
    "\n",
    "    def on_epoch_end(self, model):\n",
    "        loss = model.get_latest_training_loss()\n",
    "        if self.epoch == 0:\n",
    "            print('Loss after epoch {}: {}'.format(self.epoch, loss))\n",
    "        else:\n",
    "            print('Loss after epoch {}: {}'.format(self.epoch, loss- self.loss_previous_step))\n",
    "        self.epoch += 1\n",
    "        self.loss_previous_step = loss"
   ]
  },
  {
   "cell_type": "code",
   "execution_count": 140,
   "metadata": {
    "id": "i0wnDdv9sJ47"
   },
   "outputs": [],
   "source": [
    "# Crearmos el modelo generador de vectores\n",
    "# En este caso utilizaremos la estructura modelo Skipgram\n",
    "w2v_model = Word2Vec(min_count=5,    # frecuencia mínima de palabra para incluirla en el vocabulario\n",
    "                     window=2,       # cant de palabras antes y desp de la predicha\n",
    "                     vector_size=300,       # dimensionalidad de los vectores \n",
    "                     negative=20,    # cantidad de negative samples... 0 es no se usa\n",
    "                     workers=1,      # si tienen más cores pueden cambiar este valor\n",
    "                     sg=1)           # modelo 0:CBOW  1:skipgram"
   ]
  },
  {
   "cell_type": "code",
   "execution_count": 141,
   "metadata": {
    "id": "5lTt8wErsf17"
   },
   "outputs": [],
   "source": [
    "# Obtener el vocabulario con los tokens\n",
    "w2v_model.build_vocab(sentence_tokens)\n",
    "#w2v_model.build_vocab(sentence_tokens_NLTK)"
   ]
  },
  {
   "cell_type": "code",
   "execution_count": 142,
   "metadata": {
    "id": "TNc9qt4os5AT"
   },
   "outputs": [
    {
     "name": "stdout",
     "output_type": "stream",
     "text": [
      "Cantidad de docs en el corpus: 3866\n"
     ]
    }
   ],
   "source": [
    "# Cantidad de filas/docs encontradas en el corpus\n",
    "print(\"Cantidad de docs en el corpus:\", w2v_model.corpus_count)"
   ]
  },
  {
   "cell_type": "code",
   "execution_count": 143,
   "metadata": {
    "id": "idw9cHF3tSMl"
   },
   "outputs": [
    {
     "name": "stdout",
     "output_type": "stream",
     "text": [
      "Cantidad de words distintas en el corpus: 2927\n"
     ]
    }
   ],
   "source": [
    "# Cantidad de words encontradas en el corpus\n",
    "print(\"Cantidad de words distintas en el corpus:\", len(w2v_model.wv.index_to_key))"
   ]
  },
  {
   "cell_type": "markdown",
   "metadata": {
    "id": "fC9mZ8DPk-UC"
   },
   "source": [
    "### 3 - Entrenar embeddings"
   ]
  },
  {
   "cell_type": "code",
   "execution_count": 144,
   "metadata": {
    "id": "QSp-x0PAsq56"
   },
   "outputs": [
    {
     "name": "stdout",
     "output_type": "stream",
     "text": [
      "Loss after epoch 0: 1638580.5\n",
      "Loss after epoch 1: 1182142.5\n",
      "Loss after epoch 2: 1117364.75\n",
      "Loss after epoch 3: 1047892.25\n",
      "Loss after epoch 4: 1026492.5\n",
      "Loss after epoch 5: 1021146.0\n",
      "Loss after epoch 6: 1010534.0\n",
      "Loss after epoch 7: 975910.5\n",
      "Loss after epoch 8: 953091.0\n",
      "Loss after epoch 9: 945975.0\n",
      "Loss after epoch 10: 939097.0\n",
      "Loss after epoch 11: 933554.0\n",
      "Loss after epoch 12: 924249.0\n",
      "Loss after epoch 13: 917931.0\n",
      "Loss after epoch 14: 912225.0\n",
      "Loss after epoch 15: 907377.0\n",
      "Loss after epoch 16: 876658.0\n",
      "Loss after epoch 17: 864950.0\n",
      "Loss after epoch 18: 857480.0\n",
      "Loss after epoch 19: 850100.0\n",
      "Loss after epoch 20: 848666.0\n",
      "Loss after epoch 21: 841596.0\n",
      "Loss after epoch 22: 836074.0\n",
      "Loss after epoch 23: 834766.0\n",
      "Loss after epoch 24: 830142.0\n",
      "Loss after epoch 25: 829488.0\n",
      "Loss after epoch 26: 825026.0\n",
      "Loss after epoch 27: 823696.0\n",
      "Loss after epoch 28: 822806.0\n",
      "Loss after epoch 29: 823556.0\n"
     ]
    },
    {
     "data": {
      "text/plain": [
       "(3846497, 5762970)"
      ]
     },
     "execution_count": 144,
     "metadata": {},
     "output_type": "execute_result"
    }
   ],
   "source": [
    "# Entrenamos el modelo generador de vectores\n",
    "# Utilizamos nuestro callback\n",
    "w2v_model.train(sentence_tokens,\n",
    "                 total_examples=w2v_model.corpus_count,\n",
    "                 epochs=30,\n",
    "                 compute_loss = True,\n",
    "                 callbacks=[callback()]\n",
    "                 )"
   ]
  },
  {
   "cell_type": "markdown",
   "metadata": {
    "id": "ddT9NVuNlCAe"
   },
   "source": [
    "### 4 - Ensayar"
   ]
  },
  {
   "cell_type": "code",
   "execution_count": 145,
   "metadata": {},
   "outputs": [
    {
     "data": {
      "text/plain": [
       "['bilbo',\n",
       " 'may',\n",
       " 'light',\n",
       " 'upon',\n",
       " 'road',\n",
       " 'which',\n",
       " 'yet',\n",
       " 'shall',\n",
       " 'must',\n",
       " 'looked',\n",
       " 'can',\n",
       " 'after',\n",
       " 'our',\n",
       " 'very',\n",
       " 'night',\n",
       " 'where',\n",
       " 'its',\n",
       " 'well',\n",
       " 'heard',\n",
       " 'shire']"
      ]
     },
     "execution_count": 145,
     "metadata": {},
     "output_type": "execute_result"
    }
   ],
   "source": [
    "w2v_model.wv.index_to_key[100:120]"
   ]
  },
  {
   "cell_type": "code",
   "execution_count": 146,
   "metadata": {
    "id": "6cHN9xGLuPEm"
   },
   "outputs": [
    {
     "data": {
      "text/plain": [
       "[('ruling', 0.4862149655818939),\n",
       " ('finger', 0.4513876140117645),\n",
       " ('bearer', 0.44175827503204346),\n",
       " ('envelope', 0.43033429980278015),\n",
       " ('reward', 0.42067259550094604),\n",
       " ('treasure', 0.4202526807785034),\n",
       " ('lose', 0.4071044921875),\n",
       " ('present', 0.4049205482006073),\n",
       " ('chain', 0.40481552481651306),\n",
       " ('servant', 0.404646098613739)]"
      ]
     },
     "execution_count": 146,
     "metadata": {},
     "output_type": "execute_result"
    }
   ],
   "source": [
    "# Palabras que MÁS se relacionan con...:\n",
    "w2v_model.wv.most_similar(positive=[\"ring\"], topn=10)"
   ]
  },
  {
   "cell_type": "code",
   "execution_count": 147,
   "metadata": {
    "id": "47HiU5gdkdMq"
   },
   "outputs": [
    {
     "data": {
      "text/plain": [
       "[('green', 0.0011319438926875591),\n",
       " ('half', 0.0004848245298489928),\n",
       " ('began', -0.0017600515857338905),\n",
       " ('tall', -0.008711629547178745),\n",
       " ('steep', -0.013630827888846397),\n",
       " ('clad', -0.013852729462087154),\n",
       " ('loomed', -0.01739547587931156),\n",
       " ('fairly', -0.022533712908625603),\n",
       " ('yard', -0.022908968850970268),\n",
       " ('mostly', -0.023590516299009323)]"
      ]
     },
     "execution_count": 147,
     "metadata": {},
     "output_type": "execute_result"
    }
   ],
   "source": [
    "# Palabras que MENOS se relacionan con...:\n",
    "w2v_model.wv.most_similar(negative=[\"ring\"], topn=10)"
   ]
  },
  {
   "cell_type": "code",
   "execution_count": 148,
   "metadata": {
    "id": "DT4Rvno2mD65"
   },
   "outputs": [
    {
     "data": {
      "text/plain": [
       "[('weapon', 0.6485807299613953),\n",
       " ('venture', 0.642994225025177),\n",
       " ('ruling', 0.6427344679832458),\n",
       " ('refuge', 0.6335676312446594),\n",
       " ('ruin', 0.6326170563697815),\n",
       " ('southfarthing', 0.6246058940887451),\n",
       " ('judge', 0.6080614328384399),\n",
       " ('whither', 0.5994799137115479),\n",
       " ('argonath', 0.5992255806922913),\n",
       " ('therefore', 0.5983771085739136)]"
      ]
     },
     "execution_count": 148,
     "metadata": {},
     "output_type": "execute_result"
    }
   ],
   "source": [
    "# Palabras que MÁS se relacionan con...:\n",
    "w2v_model.wv.most_similar(positive=[\"fellowship\"], topn=10)"
   ]
  },
  {
   "cell_type": "code",
   "execution_count": 149,
   "metadata": {},
   "outputs": [
    {
     "data": {
      "text/plain": [
       "[('inhabitants', 0.4765183627605438),\n",
       " ('numerous', 0.4259274899959564),\n",
       " ('local', 0.4021904468536377),\n",
       " ('tooks', 0.4021057188510895),\n",
       " ('regret', 0.3883061408996582),\n",
       " ('maps', 0.3869330585002899),\n",
       " ('art', 0.3866514265537262),\n",
       " ('greenway', 0.383002907037735),\n",
       " ('spirits', 0.3827773332595825),\n",
       " ('mood', 0.38054484128952026)]"
      ]
     },
     "execution_count": 149,
     "metadata": {},
     "output_type": "execute_result"
    }
   ],
   "source": [
    "# Palabras que MÁS se relacionan con...:\n",
    "w2v_model.wv.most_similar(positive=[\"hobbits\"], topn=10)"
   ]
  },
  {
   "cell_type": "code",
   "execution_count": 150,
   "metadata": {
    "id": "XPLDPgzBmQXt"
   },
   "outputs": [
    {
     "data": {
      "text/plain": [
       "[('servants', 0.563747763633728),\n",
       " ('maker', 0.558211088180542),\n",
       " ('malice', 0.5524908900260925),\n",
       " ('lord', 0.5343725681304932),\n",
       " ('thorin', 0.5230007171630859)]"
      ]
     },
     "execution_count": 150,
     "metadata": {},
     "output_type": "execute_result"
    }
   ],
   "source": [
    "# Palabras que MÁS se relacionan con...:\n",
    "w2v_model.wv.most_similar(positive=[\"sauron\"], topn=5)"
   ]
  },
  {
   "cell_type": "code",
   "execution_count": 151,
   "metadata": {},
   "outputs": [
    {
     "data": {
      "text/plain": [
       "[('denethor', 0.509039580821991),\n",
       " ('durin', 0.4982733130455017),\n",
       " ('fathers', 0.49530118703842163),\n",
       " ('exile', 0.4942833185195923),\n",
       " ('khazad', 0.49422022700309753)]"
      ]
     },
     "execution_count": 151,
     "metadata": {},
     "output_type": "execute_result"
    }
   ],
   "source": [
    "# Palabras que MÁS se relacionan con...:\n",
    "w2v_model.wv.most_similar(positive=[\"mordor\"], topn=5)"
   ]
  },
  {
   "cell_type": "code",
   "execution_count": 152,
   "metadata": {},
   "outputs": [
    {
     "data": {
      "text/plain": [
       "[('horsemen', 0.5472715497016907),\n",
       " ('dúnedain', 0.541170060634613),\n",
       " ('ringwraiths', 0.5243616104125977),\n",
       " ('destroyed', 0.512380063533783),\n",
       " ('scattered', 0.5116051435470581)]"
      ]
     },
     "execution_count": 152,
     "metadata": {},
     "output_type": "execute_result"
    }
   ],
   "source": [
    "# Palabras que MÁS se relacionan con...:\n",
    "w2v_model.wv.most_similar(positive=[\"orcs\"], topn=5)"
   ]
  },
  {
   "cell_type": "code",
   "execution_count": 153,
   "metadata": {},
   "outputs": [
    {
     "name": "stdout",
     "output_type": "stream",
     "text": [
      "[ 0.00740288 -0.5327852   0.24490592 -0.10863213  0.12103377  0.27472505\n",
      " -0.01370021 -0.04295923  0.42034528 -0.30258828 -0.1614041  -0.28529638\n",
      " -0.07593333  0.138499    0.3289932  -0.53299147  0.30144614  0.09659046\n",
      "  0.24931434 -0.08622503  0.02064128  0.08194645 -0.18118092 -0.02842249\n",
      "  0.05407159 -0.2977899  -0.19689448  0.19907787  0.1339152  -0.18246004\n",
      "  0.35561886  0.2811613   0.15470493  0.38055682  0.19378534 -0.03808507\n",
      " -0.48047096 -0.00279112 -0.12243699 -0.22507808  0.09084851  0.5247233\n",
      "  0.41957092  0.09631711 -0.00127419 -0.01795008 -0.4205806   0.32665858\n",
      "  0.14504242  0.15459062  0.16474235 -0.04036025  0.17923976  0.04085565\n",
      "  0.22537662 -0.3056421  -0.2034075   0.39660114  0.05639585 -0.1568802\n",
      "  0.68832487 -0.10420727  0.15833274 -0.01461121 -0.48970777  0.40705782\n",
      "  0.07822139 -0.30212194  0.23778746  0.12528652 -0.30317947  0.23667794\n",
      "  0.16711965 -0.11826552 -0.00890912  0.4358676   0.03821135 -0.34862494\n",
      "  0.17713441  0.39156693 -0.18605891  0.66389924 -0.30434412  0.31612864\n",
      "  0.38663378  0.0014426   0.20810725  0.01488416 -0.16771309  0.8083846\n",
      " -0.18310298 -0.36978897  0.2940452  -0.24896118  0.4356223   0.1992508\n",
      " -0.09580476  0.0758717  -0.3024452  -0.16155334  0.31606904  0.37446806\n",
      "  0.38972226  0.2831215   0.17937079  0.07822454 -0.10863062  0.08797936\n",
      " -0.42235205 -0.35887116 -0.11660772 -0.3480634  -0.22349505 -0.03025738\n",
      "  0.20839684  0.08749136 -0.12175672  0.51246303 -0.28766495 -0.19040988\n",
      " -0.18241093  0.7058699  -0.04321413  0.11514238  0.13109384 -0.42247918\n",
      " -0.8941949  -0.2944001  -0.66132605  0.18751664  0.12423275 -0.25990152\n",
      " -0.4174579  -0.5668365  -0.2955392  -0.02267431 -0.29058084 -0.06753884\n",
      "  0.14494967 -0.2919459   0.22003874  0.43488944  0.37894264  0.22169289\n",
      " -0.04585028 -0.06960875 -0.3187415  -0.6466226   0.07305823 -0.25147304\n",
      " -0.22709484 -0.0961731  -0.30672508  0.10245723  0.02525619  0.13043937\n",
      " -0.1408948  -0.41740128 -0.18016125 -0.3567685  -0.6824126   0.10285441\n",
      "  0.05480882 -0.09614379  0.28227076 -0.21921593 -0.45556077 -0.01590975\n",
      "  0.02592417 -0.16523147 -0.71543014  0.17165332  0.6618667  -0.0488448\n",
      "  0.4532694   0.24284875  0.20227386 -0.05981902  0.02965748 -0.00606319\n",
      "  0.00856954  0.14128831  0.03415001  0.09378269  0.14215018  0.44250423\n",
      " -0.07925998  0.5695117   0.173421   -0.19093257 -0.3194337  -0.5185356\n",
      " -0.19519873  0.00100605  0.37224388 -0.4553507  -0.43940058  0.01049681\n",
      " -0.17357132 -0.10940935 -0.14569803  0.03460426 -0.05529863 -0.4398188\n",
      "  0.6155976  -0.22796552 -0.19088635  0.04830977 -0.3263196  -0.22223344\n",
      " -0.41018027 -0.10724469  0.17037453 -0.02093734  0.34135923  0.20017792\n",
      " -0.15642892  0.14250559  0.26497245 -0.55037016 -0.01678321  0.2477693\n",
      "  0.15174033  0.03090383  0.5807654  -0.35992968 -0.28155828  0.25731868\n",
      " -0.14509252 -0.16172215  0.24948002 -0.0474776  -0.13315637  0.23621927\n",
      " -0.26500246  0.02825124 -0.36323586  0.11315124 -0.04581328  0.00195124\n",
      " -0.02109797 -0.29651603  0.35145584 -0.00450221 -0.42800826 -0.20034884\n",
      " -0.31347305  0.02455467 -0.24354862  0.24181753  0.69636863  0.4607246\n",
      "  0.22145727  0.05766898 -0.2520159  -0.13848865  0.4939723  -0.08168027\n",
      " -0.22795098 -0.45680743 -0.20931667 -0.08549071  0.00874016 -0.20873144\n",
      " -0.4487251   0.6237472   0.5227758   0.06176002 -0.22095136 -0.22975434\n",
      "  0.11083382 -0.45757154 -0.103268    0.01341399 -0.01043112  0.54462963\n",
      "  0.03434601  0.38740298 -0.25548893 -0.00265917  0.24882263 -0.20372416\n",
      " -0.26305366  0.3609808  -0.25015044  0.15346086 -0.34507868 -0.04806694\n",
      " -0.3389115   0.15934618  0.10969599  0.32033038 -0.36989713 -0.07663343\n",
      "  0.0616989  -0.16964382  0.27472228  0.1553032   0.24016392 -0.511915  ]\n"
     ]
    }
   ],
   "source": [
    "# el método `get_vector` permite obtener los vectores:\n",
    "vector_ring = w2v_model.wv.get_vector(\"ring\")\n",
    "print(vector_ring)"
   ]
  },
  {
   "cell_type": "code",
   "execution_count": 154,
   "metadata": {},
   "outputs": [
    {
     "data": {
      "text/plain": [
       "[('ring', 1.0),\n",
       " ('ruling', 0.4862149655818939),\n",
       " ('finger', 0.4513876140117645),\n",
       " ('bearer', 0.44175827503204346),\n",
       " ('envelope', 0.43033429980278015),\n",
       " ('reward', 0.42067259550094604),\n",
       " ('treasure', 0.4202527105808258),\n",
       " ('lose', 0.4071044921875),\n",
       " ('present', 0.4049205482006073),\n",
       " ('chain', 0.40481552481651306)]"
      ]
     },
     "execution_count": 154,
     "metadata": {},
     "output_type": "execute_result"
    }
   ],
   "source": [
    "# el método `most_similar` también permite comparar a partir de vectores\n",
    "w2v_model.wv.most_similar(vector_ring)"
   ]
  },
  {
   "cell_type": "code",
   "execution_count": 155,
   "metadata": {},
   "outputs": [
    {
     "data": {
      "text/plain": [
       "[('ruling', 0.4862149655818939),\n",
       " ('finger', 0.4513876140117645),\n",
       " ('bearer', 0.44175827503204346),\n",
       " ('envelope', 0.43033429980278015),\n",
       " ('reward', 0.42067259550094604),\n",
       " ('treasure', 0.4202526807785034),\n",
       " ('lose', 0.4071044921875),\n",
       " ('present', 0.4049205482006073),\n",
       " ('chain', 0.40481552481651306),\n",
       " ('servant', 0.404646098613739)]"
      ]
     },
     "execution_count": 155,
     "metadata": {},
     "output_type": "execute_result"
    }
   ],
   "source": [
    "# Palabras que MÁS se relacionan con...:\n",
    "w2v_model.wv.most_similar(positive=[\"ring\"], topn=10)"
   ]
  },
  {
   "cell_type": "markdown",
   "metadata": {
    "id": "_g8UVWe6lFmh"
   },
   "source": [
    "### 5 - Visualizar agrupación de vectores"
   ]
  },
  {
   "cell_type": "code",
   "execution_count": 156,
   "metadata": {
    "id": "pDxEVXAivjr9"
   },
   "outputs": [],
   "source": [
    "from sklearn.decomposition import IncrementalPCA    \n",
    "from sklearn.manifold import TSNE                   \n",
    "import numpy as np                                  \n",
    "\n",
    "def reduce_dimensions(model, num_dimensions = 2 ):\n",
    "     \n",
    "    vectors = np.asarray(model.wv.vectors)\n",
    "    labels = np.asarray(model.wv.index_to_key)  \n",
    "\n",
    "    tsne = TSNE(n_components=num_dimensions, random_state=0)\n",
    "    vectors = tsne.fit_transform(vectors)\n",
    "\n",
    "    return vectors, labels"
   ]
  },
  {
   "cell_type": "code",
   "execution_count": 157,
   "metadata": {
    "id": "NCCXtDpcugmd"
   },
   "outputs": [
    {
     "data": {
      "application/vnd.plotly.v1+json": {
       "config": {
        "plotlyServerURL": "https://plot.ly"
       },
       "data": [
        {
         "hovertemplate": "x=%{x}<br>y=%{y}<br>text=%{text}<extra></extra>",
         "legendgroup": "",
         "marker": {
          "color": "#636efa",
          "symbol": "circle"
         },
         "mode": "markers+text",
         "name": "",
         "orientation": "v",
         "showlegend": false,
         "text": [
          "the",
          "and",
          "of",
          "to",
          "a",
          "'",
          "he",
          "in",
          "it",
          "was",
          "that",
          "i",
          "they",
          "you",
          "but",
          "his",
          "said",
          "for",
          "not",
          "as",
          "is",
          "on",
          "had",
          "at",
          "with",
          "were",
          "frodo",
          "have",
          "there",
          "we",
          "be",
          "all",
          "him",
          "them",
          "from",
          "if",
          "their",
          "or",
          "are",
          "now",
          "out",
          "up",
          "no",
          "by",
          "will",
          "this",
          "then",
          "do",
          "my",
          "me",
          "what",
          "into",
          "could",
          "been",
          "long",
          "gandalf",
          "would",
          "so",
          "came",
          "one",
          "down",
          "again",
          "more",
          "like",
          "when",
          "before",
          "sam",
          "go",
          "many",
          "come",
          "some",
          "great",
          "about",
          "ring",
          "still",
          "back",
          "your",
          "away",
          "far",
          "us",
          "than",
          "'i",
          "over",
          "dark",
          "an",
          "old",
          "see",
          "only",
          "here",
          "seemed",
          "has",
          "hobbits",
          "any",
          "did",
          "know",
          "last",
          "time",
          "even",
          "way",
          "went",
          "bilbo",
          "may",
          "light",
          "upon",
          "road",
          "which",
          "yet",
          "shall",
          "must",
          "looked",
          "can",
          "after",
          "our",
          "very",
          "night",
          "where",
          "its",
          "well",
          "heard",
          "shire",
          "through",
          "am",
          "little",
          "off",
          "much",
          "merry",
          "end",
          "other",
          "thought",
          "trees",
          "pippin",
          "say",
          "good",
          "under",
          "who",
          "while",
          "think",
          "aragorn",
          "behind",
          "though",
          "saw",
          "strider",
          "made",
          "eyes",
          "left",
          "found",
          "don't",
          "should",
          "suddenly",
          "side",
          "water",
          "too",
          "land",
          "things",
          "first",
          "",
          "ever",
          "elves",
          "hand",
          "seen",
          "white",
          "day",
          "black",
          "river",
          "going",
          "these",
          "never",
          "her",
          "once",
          "stood",
          "two",
          "she",
          "soon",
          "find",
          "beyond",
          "himself",
          "took",
          "fell",
          "fire",
          "mr",
          "felt",
          "'but",
          "began",
          "own",
          "hope",
          "passed",
          "get",
          "cried",
          "boromir",
          "days",
          "let",
          "round",
          "right",
          "folk",
          "deep",
          "feet",
          "cannot",
          "take",
          "hill",
          "others"
         ],
         "type": "scatter",
         "x": [
          -6.065302848815918,
          6.631871223449707,
          -12.037059783935547,
          11.09000301361084,
          -4.819716930389404,
          18.062101364135742,
          14.380766868591309,
          -10.278039932250977,
          3.7041971683502197,
          -0.7997299432754517,
          -1.6253337860107422,
          9.844320297241211,
          1.5306217670440674,
          13.554210662841797,
          3.350674867630005,
          13.079108238220215,
          19.667028427124023,
          5.973048686981201,
          -0.04091780632734299,
          -0.02155105397105217,
          -9.349857330322266,
          6.209099769592285,
          2.469583749771118,
          14.890169143676758,
          6.0074076652526855,
          -11.22247314453125,
          16.43421173095703,
          9.06415843963623,
          -2.9498043060302734,
          16.450119018554688,
          5.0688371658325195,
          -0.7181929349899292,
          15.6931734085083,
          -8.26700210571289,
          -16.102943420410156,
          4.5436296463012695,
          0.3298950791358948,
          -8.284438133239746,
          -16.008113861083984,
          3.9552764892578125,
          7.516058444976807,
          4.458154678344727,
          -12.331716537475586,
          -9.180363655090332,
          10.202478408813477,
          -3.164297580718994,
          18.98566436767578,
          8.017502784729004,
          9.211874961853027,
          9.083685874938965,
          15.439122200012207,
          -13.706892967224121,
          11.094658851623535,
          -15.000202178955078,
          -23.959627151489258,
          15.173666954040527,
          -1.4303956031799316,
          -0.08600170165300369,
          5.767427444458008,
          -27.17595672607422,
          3.4595961570739746,
          11.697332382202148,
          -3.794750928878784,
          15.948221206665039,
          4.831322193145752,
          1.746039867401123,
          17.212221145629883,
          7.267507553100586,
          -23.13030433654785,
          5.4543070793151855,
          -24.135908126831055,
          -16.402009963989258,
          6.882020950317383,
          -5.585339546203613,
          -11.584217071533203,
          9.256160736083984,
          11.692451477050781,
          1.0627511739730835,
          -13.239860534667969,
          9.190423011779785,
          -6.1213202476501465,
          18.149368286132812,
          8.366369247436523,
          7.638600826263428,
          10.715642929077148,
          12.892067909240723,
          4.388152122497559,
          1.6033962965011597,
          0.964482307434082,
          5.291965007781982,
          10.95883560180664,
          -15.947144508361816,
          9.145573616027832,
          14.424487113952637,
          9.87230110168457,
          -24.28950309753418,
          -5.819105625152588,
          -11.945353507995605,
          -8.549071311950684,
          7.946432113647461,
          0.9254258275032043,
          -2.8669791221618652,
          5.284867763519287,
          -8.47691535949707,
          -13.073478698730469,
          -17.303756713867188,
          -12.221172332763672,
          11.617880821228027,
          10.624464988708496,
          11.433253288269043,
          11.890692710876465,
          -11.65064811706543,
          0.07508398592472076,
          -1.962062120437622,
          -19.08095932006836,
          16.70452117919922,
          -2.0330421924591064,
          8.511887550354004,
          0.056431178003549576,
          -20.640769958496094,
          -8.441669464111328,
          8.252007484436035,
          -8.173948287963867,
          6.897112846374512,
          -2.469491958618164,
          15.157458305358887,
          -19.033876419067383,
          -14.964441299438477,
          3.240692138671875,
          -4.352724075317383,
          16.200063705444336,
          17.72429084777832,
          1.2935675382614136,
          -7.363631248474121,
          -18.992687225341797,
          1.859885811805725,
          6.75713586807251,
          17.93379020690918,
          -7.8342509269714355,
          -3.017624616622925,
          8.004033088684082,
          18.71229362487793,
          -6.470498085021973,
          14.231245040893555,
          1.6357287168502808,
          5.1796956062316895,
          13.11847972869873,
          12.058564186096191,
          17.88570785522461,
          -9.034010887145996,
          -3.6529788970947266,
          1.040242075920105,
          -15.80186939239502,
          -17.103927612304688,
          -21.92718505859375,
          5.902365207672119,
          -20.75337028503418,
          -16.751415252685547,
          10.900376319885254,
          2.5503041744232178,
          6.106942653656006,
          -22.696399688720703,
          0.48219192028045654,
          -12.72200870513916,
          0.15035176277160645,
          -16.61456298828125,
          11.363737106323242,
          25.66286849975586,
          8.584691047668457,
          10.38053035736084,
          -23.340911865234375,
          24.699750900268555,
          0.9178764224052429,
          5.380054473876953,
          -12.364884376525879,
          15.48449420928955,
          9.015810012817383,
          12.19682788848877,
          2.0748403072357178,
          21.80099868774414,
          17.48307991027832,
          18.109060287475586,
          -0.5264151692390442,
          -10.19705867767334,
          4.843929290771484,
          3.0768425464630127,
          4.735465049743652,
          20.28205108642578,
          16.35789680480957,
          -22.32916259765625,
          6.3387603759765625,
          18.637937545776367,
          9.503806114196777,
          -15.985408782958984,
          -3.294226884841919,
          3.1320676803588867,
          12.181480407714844,
          6.302567958831787,
          -9.204258918762207,
          -2.3424758911132812
         ],
         "xaxis": "x",
         "y": [
          -10.498607635498047,
          0.4371393620967865,
          -0.6931518316268921,
          15.230738639831543,
          -15.880475044250488,
          10.111311912536621,
          6.764132022857666,
          -3.9704105854034424,
          13.271390914916992,
          -11.050379753112793,
          11.014249801635742,
          21.559654235839844,
          0.31176286935806274,
          16.08877182006836,
          14.460111618041992,
          -6.7818169593811035,
          12.084818840026855,
          4.843385696411133,
          13.74028491973877,
          -0.42969128489494324,
          19.59672737121582,
          -3.374323606491089,
          -2.0608673095703125,
          9.022520065307617,
          0.13298265635967255,
          -2.7411422729492188,
          6.660566329956055,
          25.761911392211914,
          -7.516971588134766,
          22.449968338012695,
          18.881284713745117,
          11.045464515686035,
          5.510552883148193,
          -8.021758079528809,
          -11.77196979522705,
          11.917684555053711,
          -3.0630111694335938,
          -5.300854206085205,
          21.160261154174805,
          12.557880401611328,
          -1.564758062362671,
          -17.183517456054688,
          14.13858413696289,
          -5.829854965209961,
          17.111351013183594,
          10.448654174804688,
          -12.42013168334961,
          17.50072479248047,
          9.56514835357666,
          18.088346481323242,
          22.76132583618164,
          -22.835548400878906,
          19.687278747558594,
          23.044172286987305,
          3.315186023712158,
          11.467240333557129,
          18.887012481689453,
          10.336860656738281,
          -7.978693962097168,
          -5.166301727294922,
          -11.890161514282227,
          4.539352893829346,
          -5.159721374511719,
          -19.097593307495117,
          4.35585880279541,
          4.544144153594971,
          7.545900344848633,
          14.437891006469727,
          3.5959725379943848,
          12.52451229095459,
          9.636083602905273,
          -17.40142822265625,
          9.869528770446777,
          24.22775650024414,
          -0.32925260066986084,
          2.5856575965881348,
          14.312727928161621,
          -4.434128761291504,
          -11.814803123474121,
          13.423954963684082,
          -6.534241676330566,
          14.88205623626709,
          -9.152362823486328,
          -7.109853267669678,
          -16.968467712402344,
          10.202962875366211,
          20.809978485107422,
          27.356191635131836,
          29.97127914428711,
          7.632030010223389,
          26.346403121948242,
          10.156960487365723,
          16.680652618408203,
          21.241037368774414,
          23.115867614746094,
          -3.5352556705474854,
          1.501869797706604,
          7.710341453552246,
          -4.057589054107666,
          -10.264447212219238,
          8.934042930603027,
          18.76276206970215,
          -27.01205825805664,
          -26.07170295715332,
          -14.535235404968262,
          -6.564742565155029,
          22.145008087158203,
          18.815914154052734,
          18.595388412475586,
          -12.838452339172363,
          19.701866149902344,
          24.778690338134766,
          2.230529546737671,
          -1.867136836051941,
          20.95442008972168,
          22.633148193359375,
          -17.913244247436523,
          28.324342727661133,
          6.967606067657471,
          6.899792671203613,
          -18.038183212280273,
          21.868261337280273,
          -2.7379300594329834,
          0.6387723088264465,
          15.803243637084961,
          7.425048828125,
          -2.5708351135253906,
          7.758963584899902,
          12.389033317565918,
          -21.580055236816406,
          6.260427474975586,
          18.282901763916016,
          17.536558151245117,
          -16.71784782409668,
          8.770050048828125,
          -1.6041460037231445,
          21.253318786621094,
          8.308659553527832,
          -13.818235397338867,
          8.387683868408203,
          -7.795872688293457,
          7.589004993438721,
          16.802452087402344,
          -4.863978862762451,
          -4.453116416931152,
          -6.409357070922852,
          20.398727416992188,
          18.26518440246582,
          -3.6249501705169678,
          -27.046588897705078,
          -16.7867488861084,
          14.510730743408203,
          -9.9065523147583,
          7.2243499755859375,
          -2.1608619689941406,
          19.256166458129883,
          16.515989303588867,
          12.236701965332031,
          -22.997722625732422,
          8.817388534545898,
          -24.095773696899414,
          -0.9446259140968323,
          -9.983152389526367,
          -18.65258026123047,
          21.522388458251953,
          8.954505920410156,
          22.84469985961914,
          4.6237993240356445,
          5.3867106437683105,
          -14.451903343200684,
          -7.780091762542725,
          8.715153694152832,
          3.4429991245269775,
          14.766247749328613,
          -9.863731384277344,
          5.474019527435303,
          -2.4065041542053223,
          -10.188982963562012,
          -23.696300506591797,
          13.237220764160156,
          -2.3600027561187744,
          13.940201759338379,
          -0.9611494541168213,
          8.019048690795898,
          19.647077560424805,
          -8.444918632507324,
          15.0621337890625,
          12.074594497680664,
          8.275238037109375,
          0.5666487812995911,
          9.485190391540527,
          -10.280132293701172,
          11.30046558380127,
          5.565968990325928,
          -16.9196720123291,
          -16.144775390625,
          19.255573272705078,
          18.500232696533203,
          -21.829553604125977,
          8.315470695495605
         ],
         "yaxis": "y"
        }
       ],
       "layout": {
        "legend": {
         "tracegroupgap": 0
        },
        "margin": {
         "t": 60
        },
        "template": {
         "data": {
          "bar": [
           {
            "error_x": {
             "color": "#2a3f5f"
            },
            "error_y": {
             "color": "#2a3f5f"
            },
            "marker": {
             "line": {
              "color": "#E5ECF6",
              "width": 0.5
             },
             "pattern": {
              "fillmode": "overlay",
              "size": 10,
              "solidity": 0.2
             }
            },
            "type": "bar"
           }
          ],
          "barpolar": [
           {
            "marker": {
             "line": {
              "color": "#E5ECF6",
              "width": 0.5
             },
             "pattern": {
              "fillmode": "overlay",
              "size": 10,
              "solidity": 0.2
             }
            },
            "type": "barpolar"
           }
          ],
          "carpet": [
           {
            "aaxis": {
             "endlinecolor": "#2a3f5f",
             "gridcolor": "white",
             "linecolor": "white",
             "minorgridcolor": "white",
             "startlinecolor": "#2a3f5f"
            },
            "baxis": {
             "endlinecolor": "#2a3f5f",
             "gridcolor": "white",
             "linecolor": "white",
             "minorgridcolor": "white",
             "startlinecolor": "#2a3f5f"
            },
            "type": "carpet"
           }
          ],
          "choropleth": [
           {
            "colorbar": {
             "outlinewidth": 0,
             "ticks": ""
            },
            "type": "choropleth"
           }
          ],
          "contour": [
           {
            "colorbar": {
             "outlinewidth": 0,
             "ticks": ""
            },
            "colorscale": [
             [
              0,
              "#0d0887"
             ],
             [
              0.1111111111111111,
              "#46039f"
             ],
             [
              0.2222222222222222,
              "#7201a8"
             ],
             [
              0.3333333333333333,
              "#9c179e"
             ],
             [
              0.4444444444444444,
              "#bd3786"
             ],
             [
              0.5555555555555556,
              "#d8576b"
             ],
             [
              0.6666666666666666,
              "#ed7953"
             ],
             [
              0.7777777777777778,
              "#fb9f3a"
             ],
             [
              0.8888888888888888,
              "#fdca26"
             ],
             [
              1,
              "#f0f921"
             ]
            ],
            "type": "contour"
           }
          ],
          "contourcarpet": [
           {
            "colorbar": {
             "outlinewidth": 0,
             "ticks": ""
            },
            "type": "contourcarpet"
           }
          ],
          "heatmap": [
           {
            "colorbar": {
             "outlinewidth": 0,
             "ticks": ""
            },
            "colorscale": [
             [
              0,
              "#0d0887"
             ],
             [
              0.1111111111111111,
              "#46039f"
             ],
             [
              0.2222222222222222,
              "#7201a8"
             ],
             [
              0.3333333333333333,
              "#9c179e"
             ],
             [
              0.4444444444444444,
              "#bd3786"
             ],
             [
              0.5555555555555556,
              "#d8576b"
             ],
             [
              0.6666666666666666,
              "#ed7953"
             ],
             [
              0.7777777777777778,
              "#fb9f3a"
             ],
             [
              0.8888888888888888,
              "#fdca26"
             ],
             [
              1,
              "#f0f921"
             ]
            ],
            "type": "heatmap"
           }
          ],
          "heatmapgl": [
           {
            "colorbar": {
             "outlinewidth": 0,
             "ticks": ""
            },
            "colorscale": [
             [
              0,
              "#0d0887"
             ],
             [
              0.1111111111111111,
              "#46039f"
             ],
             [
              0.2222222222222222,
              "#7201a8"
             ],
             [
              0.3333333333333333,
              "#9c179e"
             ],
             [
              0.4444444444444444,
              "#bd3786"
             ],
             [
              0.5555555555555556,
              "#d8576b"
             ],
             [
              0.6666666666666666,
              "#ed7953"
             ],
             [
              0.7777777777777778,
              "#fb9f3a"
             ],
             [
              0.8888888888888888,
              "#fdca26"
             ],
             [
              1,
              "#f0f921"
             ]
            ],
            "type": "heatmapgl"
           }
          ],
          "histogram": [
           {
            "marker": {
             "pattern": {
              "fillmode": "overlay",
              "size": 10,
              "solidity": 0.2
             }
            },
            "type": "histogram"
           }
          ],
          "histogram2d": [
           {
            "colorbar": {
             "outlinewidth": 0,
             "ticks": ""
            },
            "colorscale": [
             [
              0,
              "#0d0887"
             ],
             [
              0.1111111111111111,
              "#46039f"
             ],
             [
              0.2222222222222222,
              "#7201a8"
             ],
             [
              0.3333333333333333,
              "#9c179e"
             ],
             [
              0.4444444444444444,
              "#bd3786"
             ],
             [
              0.5555555555555556,
              "#d8576b"
             ],
             [
              0.6666666666666666,
              "#ed7953"
             ],
             [
              0.7777777777777778,
              "#fb9f3a"
             ],
             [
              0.8888888888888888,
              "#fdca26"
             ],
             [
              1,
              "#f0f921"
             ]
            ],
            "type": "histogram2d"
           }
          ],
          "histogram2dcontour": [
           {
            "colorbar": {
             "outlinewidth": 0,
             "ticks": ""
            },
            "colorscale": [
             [
              0,
              "#0d0887"
             ],
             [
              0.1111111111111111,
              "#46039f"
             ],
             [
              0.2222222222222222,
              "#7201a8"
             ],
             [
              0.3333333333333333,
              "#9c179e"
             ],
             [
              0.4444444444444444,
              "#bd3786"
             ],
             [
              0.5555555555555556,
              "#d8576b"
             ],
             [
              0.6666666666666666,
              "#ed7953"
             ],
             [
              0.7777777777777778,
              "#fb9f3a"
             ],
             [
              0.8888888888888888,
              "#fdca26"
             ],
             [
              1,
              "#f0f921"
             ]
            ],
            "type": "histogram2dcontour"
           }
          ],
          "mesh3d": [
           {
            "colorbar": {
             "outlinewidth": 0,
             "ticks": ""
            },
            "type": "mesh3d"
           }
          ],
          "parcoords": [
           {
            "line": {
             "colorbar": {
              "outlinewidth": 0,
              "ticks": ""
             }
            },
            "type": "parcoords"
           }
          ],
          "pie": [
           {
            "automargin": true,
            "type": "pie"
           }
          ],
          "scatter": [
           {
            "fillpattern": {
             "fillmode": "overlay",
             "size": 10,
             "solidity": 0.2
            },
            "type": "scatter"
           }
          ],
          "scatter3d": [
           {
            "line": {
             "colorbar": {
              "outlinewidth": 0,
              "ticks": ""
             }
            },
            "marker": {
             "colorbar": {
              "outlinewidth": 0,
              "ticks": ""
             }
            },
            "type": "scatter3d"
           }
          ],
          "scattercarpet": [
           {
            "marker": {
             "colorbar": {
              "outlinewidth": 0,
              "ticks": ""
             }
            },
            "type": "scattercarpet"
           }
          ],
          "scattergeo": [
           {
            "marker": {
             "colorbar": {
              "outlinewidth": 0,
              "ticks": ""
             }
            },
            "type": "scattergeo"
           }
          ],
          "scattergl": [
           {
            "marker": {
             "colorbar": {
              "outlinewidth": 0,
              "ticks": ""
             }
            },
            "type": "scattergl"
           }
          ],
          "scattermapbox": [
           {
            "marker": {
             "colorbar": {
              "outlinewidth": 0,
              "ticks": ""
             }
            },
            "type": "scattermapbox"
           }
          ],
          "scatterpolar": [
           {
            "marker": {
             "colorbar": {
              "outlinewidth": 0,
              "ticks": ""
             }
            },
            "type": "scatterpolar"
           }
          ],
          "scatterpolargl": [
           {
            "marker": {
             "colorbar": {
              "outlinewidth": 0,
              "ticks": ""
             }
            },
            "type": "scatterpolargl"
           }
          ],
          "scatterternary": [
           {
            "marker": {
             "colorbar": {
              "outlinewidth": 0,
              "ticks": ""
             }
            },
            "type": "scatterternary"
           }
          ],
          "surface": [
           {
            "colorbar": {
             "outlinewidth": 0,
             "ticks": ""
            },
            "colorscale": [
             [
              0,
              "#0d0887"
             ],
             [
              0.1111111111111111,
              "#46039f"
             ],
             [
              0.2222222222222222,
              "#7201a8"
             ],
             [
              0.3333333333333333,
              "#9c179e"
             ],
             [
              0.4444444444444444,
              "#bd3786"
             ],
             [
              0.5555555555555556,
              "#d8576b"
             ],
             [
              0.6666666666666666,
              "#ed7953"
             ],
             [
              0.7777777777777778,
              "#fb9f3a"
             ],
             [
              0.8888888888888888,
              "#fdca26"
             ],
             [
              1,
              "#f0f921"
             ]
            ],
            "type": "surface"
           }
          ],
          "table": [
           {
            "cells": {
             "fill": {
              "color": "#EBF0F8"
             },
             "line": {
              "color": "white"
             }
            },
            "header": {
             "fill": {
              "color": "#C8D4E3"
             },
             "line": {
              "color": "white"
             }
            },
            "type": "table"
           }
          ]
         },
         "layout": {
          "annotationdefaults": {
           "arrowcolor": "#2a3f5f",
           "arrowhead": 0,
           "arrowwidth": 1
          },
          "autotypenumbers": "strict",
          "coloraxis": {
           "colorbar": {
            "outlinewidth": 0,
            "ticks": ""
           }
          },
          "colorscale": {
           "diverging": [
            [
             0,
             "#8e0152"
            ],
            [
             0.1,
             "#c51b7d"
            ],
            [
             0.2,
             "#de77ae"
            ],
            [
             0.3,
             "#f1b6da"
            ],
            [
             0.4,
             "#fde0ef"
            ],
            [
             0.5,
             "#f7f7f7"
            ],
            [
             0.6,
             "#e6f5d0"
            ],
            [
             0.7,
             "#b8e186"
            ],
            [
             0.8,
             "#7fbc41"
            ],
            [
             0.9,
             "#4d9221"
            ],
            [
             1,
             "#276419"
            ]
           ],
           "sequential": [
            [
             0,
             "#0d0887"
            ],
            [
             0.1111111111111111,
             "#46039f"
            ],
            [
             0.2222222222222222,
             "#7201a8"
            ],
            [
             0.3333333333333333,
             "#9c179e"
            ],
            [
             0.4444444444444444,
             "#bd3786"
            ],
            [
             0.5555555555555556,
             "#d8576b"
            ],
            [
             0.6666666666666666,
             "#ed7953"
            ],
            [
             0.7777777777777778,
             "#fb9f3a"
            ],
            [
             0.8888888888888888,
             "#fdca26"
            ],
            [
             1,
             "#f0f921"
            ]
           ],
           "sequentialminus": [
            [
             0,
             "#0d0887"
            ],
            [
             0.1111111111111111,
             "#46039f"
            ],
            [
             0.2222222222222222,
             "#7201a8"
            ],
            [
             0.3333333333333333,
             "#9c179e"
            ],
            [
             0.4444444444444444,
             "#bd3786"
            ],
            [
             0.5555555555555556,
             "#d8576b"
            ],
            [
             0.6666666666666666,
             "#ed7953"
            ],
            [
             0.7777777777777778,
             "#fb9f3a"
            ],
            [
             0.8888888888888888,
             "#fdca26"
            ],
            [
             1,
             "#f0f921"
            ]
           ]
          },
          "colorway": [
           "#636efa",
           "#EF553B",
           "#00cc96",
           "#ab63fa",
           "#FFA15A",
           "#19d3f3",
           "#FF6692",
           "#B6E880",
           "#FF97FF",
           "#FECB52"
          ],
          "font": {
           "color": "#2a3f5f"
          },
          "geo": {
           "bgcolor": "white",
           "lakecolor": "white",
           "landcolor": "#E5ECF6",
           "showlakes": true,
           "showland": true,
           "subunitcolor": "white"
          },
          "hoverlabel": {
           "align": "left"
          },
          "hovermode": "closest",
          "mapbox": {
           "style": "light"
          },
          "paper_bgcolor": "white",
          "plot_bgcolor": "#E5ECF6",
          "polar": {
           "angularaxis": {
            "gridcolor": "white",
            "linecolor": "white",
            "ticks": ""
           },
           "bgcolor": "#E5ECF6",
           "radialaxis": {
            "gridcolor": "white",
            "linecolor": "white",
            "ticks": ""
           }
          },
          "scene": {
           "xaxis": {
            "backgroundcolor": "#E5ECF6",
            "gridcolor": "white",
            "gridwidth": 2,
            "linecolor": "white",
            "showbackground": true,
            "ticks": "",
            "zerolinecolor": "white"
           },
           "yaxis": {
            "backgroundcolor": "#E5ECF6",
            "gridcolor": "white",
            "gridwidth": 2,
            "linecolor": "white",
            "showbackground": true,
            "ticks": "",
            "zerolinecolor": "white"
           },
           "zaxis": {
            "backgroundcolor": "#E5ECF6",
            "gridcolor": "white",
            "gridwidth": 2,
            "linecolor": "white",
            "showbackground": true,
            "ticks": "",
            "zerolinecolor": "white"
           }
          },
          "shapedefaults": {
           "line": {
            "color": "#2a3f5f"
           }
          },
          "ternary": {
           "aaxis": {
            "gridcolor": "white",
            "linecolor": "white",
            "ticks": ""
           },
           "baxis": {
            "gridcolor": "white",
            "linecolor": "white",
            "ticks": ""
           },
           "bgcolor": "#E5ECF6",
           "caxis": {
            "gridcolor": "white",
            "linecolor": "white",
            "ticks": ""
           }
          },
          "title": {
           "x": 0.05
          },
          "xaxis": {
           "automargin": true,
           "gridcolor": "white",
           "linecolor": "white",
           "ticks": "",
           "title": {
            "standoff": 15
           },
           "zerolinecolor": "white",
           "zerolinewidth": 2
          },
          "yaxis": {
           "automargin": true,
           "gridcolor": "white",
           "linecolor": "white",
           "ticks": "",
           "title": {
            "standoff": 15
           },
           "zerolinecolor": "white",
           "zerolinewidth": 2
          }
         }
        },
        "xaxis": {
         "anchor": "y",
         "domain": [
          0,
          1
         ],
         "title": {
          "text": "x"
         }
        },
        "yaxis": {
         "anchor": "x",
         "domain": [
          0,
          1
         ],
         "title": {
          "text": "y"
         }
        }
       }
      },
      "text/html": [
       "<div>                            <div id=\"d8dd87b7-0f8b-4eff-b72d-e3d13ff5eb57\" class=\"plotly-graph-div\" style=\"height:525px; width:100%;\"></div>            <script type=\"text/javascript\">                require([\"plotly\"], function(Plotly) {                    window.PLOTLYENV=window.PLOTLYENV || {};                                    if (document.getElementById(\"d8dd87b7-0f8b-4eff-b72d-e3d13ff5eb57\")) {                    Plotly.newPlot(                        \"d8dd87b7-0f8b-4eff-b72d-e3d13ff5eb57\",                        [{\"hovertemplate\":\"x=%{x}\\u003cbr\\u003ey=%{y}\\u003cbr\\u003etext=%{text}\\u003cextra\\u003e\\u003c\\u002fextra\\u003e\",\"legendgroup\":\"\",\"marker\":{\"color\":\"#636efa\",\"symbol\":\"circle\"},\"mode\":\"markers+text\",\"name\":\"\",\"orientation\":\"v\",\"showlegend\":false,\"text\":[\"the\",\"and\",\"of\",\"to\",\"a\",\"'\",\"he\",\"in\",\"it\",\"was\",\"that\",\"i\",\"they\",\"you\",\"but\",\"his\",\"said\",\"for\",\"not\",\"as\",\"is\",\"on\",\"had\",\"at\",\"with\",\"were\",\"frodo\",\"have\",\"there\",\"we\",\"be\",\"all\",\"him\",\"them\",\"from\",\"if\",\"their\",\"or\",\"are\",\"now\",\"out\",\"up\",\"no\",\"by\",\"will\",\"this\",\"then\",\"do\",\"my\",\"me\",\"what\",\"into\",\"could\",\"been\",\"long\",\"gandalf\",\"would\",\"so\",\"came\",\"one\",\"down\",\"again\",\"more\",\"like\",\"when\",\"before\",\"sam\",\"go\",\"many\",\"come\",\"some\",\"great\",\"about\",\"ring\",\"still\",\"back\",\"your\",\"away\",\"far\",\"us\",\"than\",\"'i\",\"over\",\"dark\",\"an\",\"old\",\"see\",\"only\",\"here\",\"seemed\",\"has\",\"hobbits\",\"any\",\"did\",\"know\",\"last\",\"time\",\"even\",\"way\",\"went\",\"bilbo\",\"may\",\"light\",\"upon\",\"road\",\"which\",\"yet\",\"shall\",\"must\",\"looked\",\"can\",\"after\",\"our\",\"very\",\"night\",\"where\",\"its\",\"well\",\"heard\",\"shire\",\"through\",\"am\",\"little\",\"off\",\"much\",\"merry\",\"end\",\"other\",\"thought\",\"trees\",\"pippin\",\"say\",\"good\",\"under\",\"who\",\"while\",\"think\",\"aragorn\",\"behind\",\"though\",\"saw\",\"strider\",\"made\",\"eyes\",\"left\",\"found\",\"don't\",\"should\",\"suddenly\",\"side\",\"water\",\"too\",\"land\",\"things\",\"first\",\"\\u0096\",\"ever\",\"elves\",\"hand\",\"seen\",\"white\",\"day\",\"black\",\"river\",\"going\",\"these\",\"never\",\"her\",\"once\",\"stood\",\"two\",\"she\",\"soon\",\"find\",\"beyond\",\"himself\",\"took\",\"fell\",\"fire\",\"mr\",\"felt\",\"'but\",\"began\",\"own\",\"hope\",\"passed\",\"get\",\"cried\",\"boromir\",\"days\",\"let\",\"round\",\"right\",\"folk\",\"deep\",\"feet\",\"cannot\",\"take\",\"hill\",\"others\"],\"x\":[-6.065302848815918,6.631871223449707,-12.037059783935547,11.09000301361084,-4.819716930389404,18.062101364135742,14.380766868591309,-10.278039932250977,3.7041971683502197,-0.7997299432754517,-1.6253337860107422,9.844320297241211,1.5306217670440674,13.554210662841797,3.350674867630005,13.079108238220215,19.667028427124023,5.973048686981201,-0.04091780632734299,-0.02155105397105217,-9.349857330322266,6.209099769592285,2.469583749771118,14.890169143676758,6.0074076652526855,-11.22247314453125,16.43421173095703,9.06415843963623,-2.9498043060302734,16.450119018554688,5.0688371658325195,-0.7181929349899292,15.6931734085083,-8.26700210571289,-16.102943420410156,4.5436296463012695,0.3298950791358948,-8.284438133239746,-16.008113861083984,3.9552764892578125,7.516058444976807,4.458154678344727,-12.331716537475586,-9.180363655090332,10.202478408813477,-3.164297580718994,18.98566436767578,8.017502784729004,9.211874961853027,9.083685874938965,15.439122200012207,-13.706892967224121,11.094658851623535,-15.000202178955078,-23.959627151489258,15.173666954040527,-1.4303956031799316,-0.08600170165300369,5.767427444458008,-27.17595672607422,3.4595961570739746,11.697332382202148,-3.794750928878784,15.948221206665039,4.831322193145752,1.746039867401123,17.212221145629883,7.267507553100586,-23.13030433654785,5.4543070793151855,-24.135908126831055,-16.402009963989258,6.882020950317383,-5.585339546203613,-11.584217071533203,9.256160736083984,11.692451477050781,1.0627511739730835,-13.239860534667969,9.190423011779785,-6.1213202476501465,18.149368286132812,8.366369247436523,7.638600826263428,10.715642929077148,12.892067909240723,4.388152122497559,1.6033962965011597,0.964482307434082,5.291965007781982,10.95883560180664,-15.947144508361816,9.145573616027832,14.424487113952637,9.87230110168457,-24.28950309753418,-5.819105625152588,-11.945353507995605,-8.549071311950684,7.946432113647461,0.9254258275032043,-2.8669791221618652,5.284867763519287,-8.47691535949707,-13.073478698730469,-17.303756713867188,-12.221172332763672,11.617880821228027,10.624464988708496,11.433253288269043,11.890692710876465,-11.65064811706543,0.07508398592472076,-1.962062120437622,-19.08095932006836,16.70452117919922,-2.0330421924591064,8.511887550354004,0.056431178003549576,-20.640769958496094,-8.441669464111328,8.252007484436035,-8.173948287963867,6.897112846374512,-2.469491958618164,15.157458305358887,-19.033876419067383,-14.964441299438477,3.240692138671875,-4.352724075317383,16.200063705444336,17.72429084777832,1.2935675382614136,-7.363631248474121,-18.992687225341797,1.859885811805725,6.75713586807251,17.93379020690918,-7.8342509269714355,-3.017624616622925,8.004033088684082,18.71229362487793,-6.470498085021973,14.231245040893555,1.6357287168502808,5.1796956062316895,13.11847972869873,12.058564186096191,17.88570785522461,-9.034010887145996,-3.6529788970947266,1.040242075920105,-15.80186939239502,-17.103927612304688,-21.92718505859375,5.902365207672119,-20.75337028503418,-16.751415252685547,10.900376319885254,2.5503041744232178,6.106942653656006,-22.696399688720703,0.48219192028045654,-12.72200870513916,0.15035176277160645,-16.61456298828125,11.363737106323242,25.66286849975586,8.584691047668457,10.38053035736084,-23.340911865234375,24.699750900268555,0.9178764224052429,5.380054473876953,-12.364884376525879,15.48449420928955,9.015810012817383,12.19682788848877,2.0748403072357178,21.80099868774414,17.48307991027832,18.109060287475586,-0.5264151692390442,-10.19705867767334,4.843929290771484,3.0768425464630127,4.735465049743652,20.28205108642578,16.35789680480957,-22.32916259765625,6.3387603759765625,18.637937545776367,9.503806114196777,-15.985408782958984,-3.294226884841919,3.1320676803588867,12.181480407714844,6.302567958831787,-9.204258918762207,-2.3424758911132812],\"xaxis\":\"x\",\"y\":[-10.498607635498047,0.4371393620967865,-0.6931518316268921,15.230738639831543,-15.880475044250488,10.111311912536621,6.764132022857666,-3.9704105854034424,13.271390914916992,-11.050379753112793,11.014249801635742,21.559654235839844,0.31176286935806274,16.08877182006836,14.460111618041992,-6.7818169593811035,12.084818840026855,4.843385696411133,13.74028491973877,-0.42969128489494324,19.59672737121582,-3.374323606491089,-2.0608673095703125,9.022520065307617,0.13298265635967255,-2.7411422729492188,6.660566329956055,25.761911392211914,-7.516971588134766,22.449968338012695,18.881284713745117,11.045464515686035,5.510552883148193,-8.021758079528809,-11.77196979522705,11.917684555053711,-3.0630111694335938,-5.300854206085205,21.160261154174805,12.557880401611328,-1.564758062362671,-17.183517456054688,14.13858413696289,-5.829854965209961,17.111351013183594,10.448654174804688,-12.42013168334961,17.50072479248047,9.56514835357666,18.088346481323242,22.76132583618164,-22.835548400878906,19.687278747558594,23.044172286987305,3.315186023712158,11.467240333557129,18.887012481689453,10.336860656738281,-7.978693962097168,-5.166301727294922,-11.890161514282227,4.539352893829346,-5.159721374511719,-19.097593307495117,4.35585880279541,4.544144153594971,7.545900344848633,14.437891006469727,3.5959725379943848,12.52451229095459,9.636083602905273,-17.40142822265625,9.869528770446777,24.22775650024414,-0.32925260066986084,2.5856575965881348,14.312727928161621,-4.434128761291504,-11.814803123474121,13.423954963684082,-6.534241676330566,14.88205623626709,-9.152362823486328,-7.109853267669678,-16.968467712402344,10.202962875366211,20.809978485107422,27.356191635131836,29.97127914428711,7.632030010223389,26.346403121948242,10.156960487365723,16.680652618408203,21.241037368774414,23.115867614746094,-3.5352556705474854,1.501869797706604,7.710341453552246,-4.057589054107666,-10.264447212219238,8.934042930603027,18.76276206970215,-27.01205825805664,-26.07170295715332,-14.535235404968262,-6.564742565155029,22.145008087158203,18.815914154052734,18.595388412475586,-12.838452339172363,19.701866149902344,24.778690338134766,2.230529546737671,-1.867136836051941,20.95442008972168,22.633148193359375,-17.913244247436523,28.324342727661133,6.967606067657471,6.899792671203613,-18.038183212280273,21.868261337280273,-2.7379300594329834,0.6387723088264465,15.803243637084961,7.425048828125,-2.5708351135253906,7.758963584899902,12.389033317565918,-21.580055236816406,6.260427474975586,18.282901763916016,17.536558151245117,-16.71784782409668,8.770050048828125,-1.6041460037231445,21.253318786621094,8.308659553527832,-13.818235397338867,8.387683868408203,-7.795872688293457,7.589004993438721,16.802452087402344,-4.863978862762451,-4.453116416931152,-6.409357070922852,20.398727416992188,18.26518440246582,-3.6249501705169678,-27.046588897705078,-16.7867488861084,14.510730743408203,-9.9065523147583,7.2243499755859375,-2.1608619689941406,19.256166458129883,16.515989303588867,12.236701965332031,-22.997722625732422,8.817388534545898,-24.095773696899414,-0.9446259140968323,-9.983152389526367,-18.65258026123047,21.522388458251953,8.954505920410156,22.84469985961914,4.6237993240356445,5.3867106437683105,-14.451903343200684,-7.780091762542725,8.715153694152832,3.4429991245269775,14.766247749328613,-9.863731384277344,5.474019527435303,-2.4065041542053223,-10.188982963562012,-23.696300506591797,13.237220764160156,-2.3600027561187744,13.940201759338379,-0.9611494541168213,8.019048690795898,19.647077560424805,-8.444918632507324,15.0621337890625,12.074594497680664,8.275238037109375,0.5666487812995911,9.485190391540527,-10.280132293701172,11.30046558380127,5.565968990325928,-16.9196720123291,-16.144775390625,19.255573272705078,18.500232696533203,-21.829553604125977,8.315470695495605],\"yaxis\":\"y\",\"type\":\"scatter\"}],                        {\"template\":{\"data\":{\"histogram2dcontour\":[{\"type\":\"histogram2dcontour\",\"colorbar\":{\"outlinewidth\":0,\"ticks\":\"\"},\"colorscale\":[[0.0,\"#0d0887\"],[0.1111111111111111,\"#46039f\"],[0.2222222222222222,\"#7201a8\"],[0.3333333333333333,\"#9c179e\"],[0.4444444444444444,\"#bd3786\"],[0.5555555555555556,\"#d8576b\"],[0.6666666666666666,\"#ed7953\"],[0.7777777777777778,\"#fb9f3a\"],[0.8888888888888888,\"#fdca26\"],[1.0,\"#f0f921\"]]}],\"choropleth\":[{\"type\":\"choropleth\",\"colorbar\":{\"outlinewidth\":0,\"ticks\":\"\"}}],\"histogram2d\":[{\"type\":\"histogram2d\",\"colorbar\":{\"outlinewidth\":0,\"ticks\":\"\"},\"colorscale\":[[0.0,\"#0d0887\"],[0.1111111111111111,\"#46039f\"],[0.2222222222222222,\"#7201a8\"],[0.3333333333333333,\"#9c179e\"],[0.4444444444444444,\"#bd3786\"],[0.5555555555555556,\"#d8576b\"],[0.6666666666666666,\"#ed7953\"],[0.7777777777777778,\"#fb9f3a\"],[0.8888888888888888,\"#fdca26\"],[1.0,\"#f0f921\"]]}],\"heatmap\":[{\"type\":\"heatmap\",\"colorbar\":{\"outlinewidth\":0,\"ticks\":\"\"},\"colorscale\":[[0.0,\"#0d0887\"],[0.1111111111111111,\"#46039f\"],[0.2222222222222222,\"#7201a8\"],[0.3333333333333333,\"#9c179e\"],[0.4444444444444444,\"#bd3786\"],[0.5555555555555556,\"#d8576b\"],[0.6666666666666666,\"#ed7953\"],[0.7777777777777778,\"#fb9f3a\"],[0.8888888888888888,\"#fdca26\"],[1.0,\"#f0f921\"]]}],\"heatmapgl\":[{\"type\":\"heatmapgl\",\"colorbar\":{\"outlinewidth\":0,\"ticks\":\"\"},\"colorscale\":[[0.0,\"#0d0887\"],[0.1111111111111111,\"#46039f\"],[0.2222222222222222,\"#7201a8\"],[0.3333333333333333,\"#9c179e\"],[0.4444444444444444,\"#bd3786\"],[0.5555555555555556,\"#d8576b\"],[0.6666666666666666,\"#ed7953\"],[0.7777777777777778,\"#fb9f3a\"],[0.8888888888888888,\"#fdca26\"],[1.0,\"#f0f921\"]]}],\"contourcarpet\":[{\"type\":\"contourcarpet\",\"colorbar\":{\"outlinewidth\":0,\"ticks\":\"\"}}],\"contour\":[{\"type\":\"contour\",\"colorbar\":{\"outlinewidth\":0,\"ticks\":\"\"},\"colorscale\":[[0.0,\"#0d0887\"],[0.1111111111111111,\"#46039f\"],[0.2222222222222222,\"#7201a8\"],[0.3333333333333333,\"#9c179e\"],[0.4444444444444444,\"#bd3786\"],[0.5555555555555556,\"#d8576b\"],[0.6666666666666666,\"#ed7953\"],[0.7777777777777778,\"#fb9f3a\"],[0.8888888888888888,\"#fdca26\"],[1.0,\"#f0f921\"]]}],\"surface\":[{\"type\":\"surface\",\"colorbar\":{\"outlinewidth\":0,\"ticks\":\"\"},\"colorscale\":[[0.0,\"#0d0887\"],[0.1111111111111111,\"#46039f\"],[0.2222222222222222,\"#7201a8\"],[0.3333333333333333,\"#9c179e\"],[0.4444444444444444,\"#bd3786\"],[0.5555555555555556,\"#d8576b\"],[0.6666666666666666,\"#ed7953\"],[0.7777777777777778,\"#fb9f3a\"],[0.8888888888888888,\"#fdca26\"],[1.0,\"#f0f921\"]]}],\"mesh3d\":[{\"type\":\"mesh3d\",\"colorbar\":{\"outlinewidth\":0,\"ticks\":\"\"}}],\"scatter\":[{\"fillpattern\":{\"fillmode\":\"overlay\",\"size\":10,\"solidity\":0.2},\"type\":\"scatter\"}],\"parcoords\":[{\"type\":\"parcoords\",\"line\":{\"colorbar\":{\"outlinewidth\":0,\"ticks\":\"\"}}}],\"scatterpolargl\":[{\"type\":\"scatterpolargl\",\"marker\":{\"colorbar\":{\"outlinewidth\":0,\"ticks\":\"\"}}}],\"bar\":[{\"error_x\":{\"color\":\"#2a3f5f\"},\"error_y\":{\"color\":\"#2a3f5f\"},\"marker\":{\"line\":{\"color\":\"#E5ECF6\",\"width\":0.5},\"pattern\":{\"fillmode\":\"overlay\",\"size\":10,\"solidity\":0.2}},\"type\":\"bar\"}],\"scattergeo\":[{\"type\":\"scattergeo\",\"marker\":{\"colorbar\":{\"outlinewidth\":0,\"ticks\":\"\"}}}],\"scatterpolar\":[{\"type\":\"scatterpolar\",\"marker\":{\"colorbar\":{\"outlinewidth\":0,\"ticks\":\"\"}}}],\"histogram\":[{\"marker\":{\"pattern\":{\"fillmode\":\"overlay\",\"size\":10,\"solidity\":0.2}},\"type\":\"histogram\"}],\"scattergl\":[{\"type\":\"scattergl\",\"marker\":{\"colorbar\":{\"outlinewidth\":0,\"ticks\":\"\"}}}],\"scatter3d\":[{\"type\":\"scatter3d\",\"line\":{\"colorbar\":{\"outlinewidth\":0,\"ticks\":\"\"}},\"marker\":{\"colorbar\":{\"outlinewidth\":0,\"ticks\":\"\"}}}],\"scattermapbox\":[{\"type\":\"scattermapbox\",\"marker\":{\"colorbar\":{\"outlinewidth\":0,\"ticks\":\"\"}}}],\"scatterternary\":[{\"type\":\"scatterternary\",\"marker\":{\"colorbar\":{\"outlinewidth\":0,\"ticks\":\"\"}}}],\"scattercarpet\":[{\"type\":\"scattercarpet\",\"marker\":{\"colorbar\":{\"outlinewidth\":0,\"ticks\":\"\"}}}],\"carpet\":[{\"aaxis\":{\"endlinecolor\":\"#2a3f5f\",\"gridcolor\":\"white\",\"linecolor\":\"white\",\"minorgridcolor\":\"white\",\"startlinecolor\":\"#2a3f5f\"},\"baxis\":{\"endlinecolor\":\"#2a3f5f\",\"gridcolor\":\"white\",\"linecolor\":\"white\",\"minorgridcolor\":\"white\",\"startlinecolor\":\"#2a3f5f\"},\"type\":\"carpet\"}],\"table\":[{\"cells\":{\"fill\":{\"color\":\"#EBF0F8\"},\"line\":{\"color\":\"white\"}},\"header\":{\"fill\":{\"color\":\"#C8D4E3\"},\"line\":{\"color\":\"white\"}},\"type\":\"table\"}],\"barpolar\":[{\"marker\":{\"line\":{\"color\":\"#E5ECF6\",\"width\":0.5},\"pattern\":{\"fillmode\":\"overlay\",\"size\":10,\"solidity\":0.2}},\"type\":\"barpolar\"}],\"pie\":[{\"automargin\":true,\"type\":\"pie\"}]},\"layout\":{\"autotypenumbers\":\"strict\",\"colorway\":[\"#636efa\",\"#EF553B\",\"#00cc96\",\"#ab63fa\",\"#FFA15A\",\"#19d3f3\",\"#FF6692\",\"#B6E880\",\"#FF97FF\",\"#FECB52\"],\"font\":{\"color\":\"#2a3f5f\"},\"hovermode\":\"closest\",\"hoverlabel\":{\"align\":\"left\"},\"paper_bgcolor\":\"white\",\"plot_bgcolor\":\"#E5ECF6\",\"polar\":{\"bgcolor\":\"#E5ECF6\",\"angularaxis\":{\"gridcolor\":\"white\",\"linecolor\":\"white\",\"ticks\":\"\"},\"radialaxis\":{\"gridcolor\":\"white\",\"linecolor\":\"white\",\"ticks\":\"\"}},\"ternary\":{\"bgcolor\":\"#E5ECF6\",\"aaxis\":{\"gridcolor\":\"white\",\"linecolor\":\"white\",\"ticks\":\"\"},\"baxis\":{\"gridcolor\":\"white\",\"linecolor\":\"white\",\"ticks\":\"\"},\"caxis\":{\"gridcolor\":\"white\",\"linecolor\":\"white\",\"ticks\":\"\"}},\"coloraxis\":{\"colorbar\":{\"outlinewidth\":0,\"ticks\":\"\"}},\"colorscale\":{\"sequential\":[[0.0,\"#0d0887\"],[0.1111111111111111,\"#46039f\"],[0.2222222222222222,\"#7201a8\"],[0.3333333333333333,\"#9c179e\"],[0.4444444444444444,\"#bd3786\"],[0.5555555555555556,\"#d8576b\"],[0.6666666666666666,\"#ed7953\"],[0.7777777777777778,\"#fb9f3a\"],[0.8888888888888888,\"#fdca26\"],[1.0,\"#f0f921\"]],\"sequentialminus\":[[0.0,\"#0d0887\"],[0.1111111111111111,\"#46039f\"],[0.2222222222222222,\"#7201a8\"],[0.3333333333333333,\"#9c179e\"],[0.4444444444444444,\"#bd3786\"],[0.5555555555555556,\"#d8576b\"],[0.6666666666666666,\"#ed7953\"],[0.7777777777777778,\"#fb9f3a\"],[0.8888888888888888,\"#fdca26\"],[1.0,\"#f0f921\"]],\"diverging\":[[0,\"#8e0152\"],[0.1,\"#c51b7d\"],[0.2,\"#de77ae\"],[0.3,\"#f1b6da\"],[0.4,\"#fde0ef\"],[0.5,\"#f7f7f7\"],[0.6,\"#e6f5d0\"],[0.7,\"#b8e186\"],[0.8,\"#7fbc41\"],[0.9,\"#4d9221\"],[1,\"#276419\"]]},\"xaxis\":{\"gridcolor\":\"white\",\"linecolor\":\"white\",\"ticks\":\"\",\"title\":{\"standoff\":15},\"zerolinecolor\":\"white\",\"automargin\":true,\"zerolinewidth\":2},\"yaxis\":{\"gridcolor\":\"white\",\"linecolor\":\"white\",\"ticks\":\"\",\"title\":{\"standoff\":15},\"zerolinecolor\":\"white\",\"automargin\":true,\"zerolinewidth\":2},\"scene\":{\"xaxis\":{\"backgroundcolor\":\"#E5ECF6\",\"gridcolor\":\"white\",\"linecolor\":\"white\",\"showbackground\":true,\"ticks\":\"\",\"zerolinecolor\":\"white\",\"gridwidth\":2},\"yaxis\":{\"backgroundcolor\":\"#E5ECF6\",\"gridcolor\":\"white\",\"linecolor\":\"white\",\"showbackground\":true,\"ticks\":\"\",\"zerolinecolor\":\"white\",\"gridwidth\":2},\"zaxis\":{\"backgroundcolor\":\"#E5ECF6\",\"gridcolor\":\"white\",\"linecolor\":\"white\",\"showbackground\":true,\"ticks\":\"\",\"zerolinecolor\":\"white\",\"gridwidth\":2}},\"shapedefaults\":{\"line\":{\"color\":\"#2a3f5f\"}},\"annotationdefaults\":{\"arrowcolor\":\"#2a3f5f\",\"arrowhead\":0,\"arrowwidth\":1},\"geo\":{\"bgcolor\":\"white\",\"landcolor\":\"#E5ECF6\",\"subunitcolor\":\"white\",\"showland\":true,\"showlakes\":true,\"lakecolor\":\"white\"},\"title\":{\"x\":0.05},\"mapbox\":{\"style\":\"light\"}}},\"xaxis\":{\"anchor\":\"y\",\"domain\":[0.0,1.0],\"title\":{\"text\":\"x\"}},\"yaxis\":{\"anchor\":\"x\",\"domain\":[0.0,1.0],\"title\":{\"text\":\"y\"}},\"legend\":{\"tracegroupgap\":0},\"margin\":{\"t\":60}},                        {\"responsive\": true}                    ).then(function(){\n",
       "                            \n",
       "var gd = document.getElementById('d8dd87b7-0f8b-4eff-b72d-e3d13ff5eb57');\n",
       "var x = new MutationObserver(function (mutations, observer) {{\n",
       "        var display = window.getComputedStyle(gd).display;\n",
       "        if (!display || display === 'none') {{\n",
       "            console.log([gd, 'removed!']);\n",
       "            Plotly.purge(gd);\n",
       "            observer.disconnect();\n",
       "        }}\n",
       "}});\n",
       "\n",
       "// Listen for the removal of the full notebook cells\n",
       "var notebookContainer = gd.closest('#notebook-container');\n",
       "if (notebookContainer) {{\n",
       "    x.observe(notebookContainer, {childList: true});\n",
       "}}\n",
       "\n",
       "// Listen for the clearing of the current output cell\n",
       "var outputEl = gd.closest('.output');\n",
       "if (outputEl) {{\n",
       "    x.observe(outputEl, {childList: true});\n",
       "}}\n",
       "\n",
       "                        })                };                });            </script>        </div>"
      ]
     },
     "metadata": {},
     "output_type": "display_data"
    }
   ],
   "source": [
    "# Graficar los embedddings en 2D\n",
    "import plotly.graph_objects as go\n",
    "import plotly.express as px\n",
    "\n",
    "vecs, labels = reduce_dimensions(w2v_model)\n",
    "\n",
    "MAX_WORDS=200\n",
    "fig = px.scatter(x=vecs[:MAX_WORDS,0], y=vecs[:MAX_WORDS,1], text=labels[:MAX_WORDS])\n",
    "fig\n",
    "#fig.show(renderer=\"colab\") # esto para plotly en colab"
   ]
  },
  {
   "cell_type": "code",
   "execution_count": 158,
   "metadata": {},
   "outputs": [],
   "source": [
    "# También se pueden guardar los vectores y labels como tsv para graficar en\n",
    "# http://projector.tensorflow.org/\n",
    "\n",
    "\n",
    "vectors = np.asarray(w2v_model.wv.vectors)\n",
    "labels = list(w2v_model.wv.index_to_key)\n",
    "\n",
    "np.savetxt(\"data/vectors.tsv\", vectors, delimiter=\"\\t\")\n",
    "\n",
    "with open(\"data/labels.tsv\", \"w\") as fp:\n",
    "    for item in labels:\n",
    "        fp.write(\"%s\\n\" % item)"
   ]
  },
  {
   "cell_type": "markdown",
   "metadata": {},
   "source": [
    "Los resultados son coherentes, se puede ver en la imagen que los nombres de los personajes estan agrupados\n",
    "\n",
    "![Alt text](data/newplot.png)\n",
    "\n",
    "\"hobbits\" esta cerca de \"elves\" y tambien de \"shire\"\n",
    "\n",
    "![Alt text](data/newplot2.png)\n",
    "\n",
    "Tambien los conectores\n",
    "\n",
    "![Alt text](data/newplot3.png)"
   ]
  },
  {
   "cell_type": "code",
   "execution_count": 159,
   "metadata": {},
   "outputs": [],
   "source": [
    "# Armamos una función para graficar la matriz de similaridad\n",
    "def plot_matrix_distance(words, dist):\n",
    "    fig = plt.figure(figsize=(16,9))\n",
    "    ax = fig.add_subplot()\n",
    "    sns.heatmap(dist, xticklabels=words, yticklabels=words, \n",
    "                annot=True, fmt=\".2f\", cmap=\"YlGnBu\", ax=ax, mask=np.triu(dist))\n",
    "    plt.show()"
   ]
  },
  {
   "cell_type": "code",
   "execution_count": 160,
   "metadata": {},
   "outputs": [
    {
     "data": {
      "image/png": "[encoded data removed]",
      "text/plain": [
       "<Figure size 1600x900 with 2 Axes>"
      ]
     },
     "metadata": {},
     "output_type": "display_data"
    }
   ],
   "source": [
    "from sklearn.metrics import pairwise\n",
    "# probamos un test de analogía\n",
    "test_words = ['legolas', 'elves', 'frodo', 'hobbits']\n",
    "\n",
    "test_emb = []\n",
    "for word in test_words:\n",
    "    test_emb.append(w2v_model.wv.get_vector(word))\n",
    "    \n",
    "# legolas - elves + frodo\n",
    "new_hobbit = test_emb[0] - test_emb[1] + test_emb[2]\n",
    "\n",
    "new_words = test_words + ['new_hobbit']\n",
    "new_emb = np.append(test_emb, new_hobbit.reshape(1, -1), axis=0)\n",
    "\n",
    "dist = pairwise.cosine_similarity(new_emb, new_emb)\n",
    "\n",
    "plot_matrix_distance(new_words, dist)"
   ]
  },
  {
   "cell_type": "markdown",
   "metadata": {},
   "source": [
    "El nuevo vector \"new_hobbit\" Si bien tiene una similaridad con \"hobbits\" se ve que tiene mayor similaridad con los nombes de los personajes.\n",
    "\n",
    "Verifico con que palabras tiene mayor similaridad"
   ]
  },
  {
   "cell_type": "code",
   "execution_count": 161,
   "metadata": {},
   "outputs": [],
   "source": [
    "# calculamos la similaridad de 'new_hobbit' contra todos los vectores\n",
    "# puede tardar unos segundos\n",
    "similarities = np.squeeze(pairwise.cosine_similarity(w2v_model.wv.vectors,np.array([new_hobbit])))"
   ]
  },
  {
   "cell_type": "code",
   "execution_count": 162,
   "metadata": {},
   "outputs": [
    {
     "name": "stdout",
     "output_type": "stream",
     "text": [
      "frodo: 0.6265349388122559\n",
      "legolas: 0.5454933047294617\n",
      "'look: 0.3614315390586853\n",
      "he: 0.35905301570892334\n",
      "'that's: 0.34668493270874023\n",
      "doubtfully: 0.33701270818710327\n",
      "picking: 0.3350703716278076\n",
      "muffled: 0.3334004282951355\n",
      "smile: 0.3314243257045746\n",
      "effort: 0.32997754216194153\n"
     ]
    }
   ],
   "source": [
    "# vemos cuáles son los 10 vectores más similares\n",
    "args_sorted = np.argsort(similarities)[::-1][:10]\n",
    "for arg in args_sorted:\n",
    "  print(f'{labels[arg]}: {similarities[arg]}')"
   ]
  }
 ],
 "metadata": {
  "colab": {
   "collapsed_sections": [],
   "provenance": []
  },
  "kernelspec": {
   "display_name": "Python 3 (ipykernel)",
   "language": "python",
   "name": "python3"
  },
  "language_info": {
   "codemirror_mode": {
    "name": "ipython",
    "version": 3
   },
   "file_extension": ".py",
   "mimetype": "text/x-python",
   "name": "python",
   "nbconvert_exporter": "python",
   "pygments_lexer": "ipython3",
   "version": "3.9.18"
  }
 },
 "nbformat": 4,
 "nbformat_minor": 4
}
